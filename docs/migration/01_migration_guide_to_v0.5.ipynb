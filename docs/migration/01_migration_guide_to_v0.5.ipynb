{
 "cells": [
  {
   "cell_type": "markdown",
   "metadata": {},
   "source": [
    "# Qiskit Optimization v0.5 Migration Guide\n",
    "\n",
    "This tutorial will guide you through the process of migrating your code from Qiskit Optimization v0.4 to v0.5."
   ]
  },
  {
   "cell_type": "markdown",
   "metadata": {},
   "source": [
    "## Overview\n",
    "\n",
    "Qiskit Terra v0.22 introduces new algorithm implementations that leverage [Qiskit Primitives](https://qiskit.org/documentation/apidoc/primitives.html) (Estimator and Sampler). The former algorithm implementations that leverage opflow will be deprecated in the future release.\n",
    "\n",
    "Qiskit Optimization v0.5 supports both the new and the former algorithms of Qiskit Terra v0.22 until the former algorithms are deprecated.\n",
    "\n",
    "It is not the intention to provide detailed explanations of the primitives in this migration guide. We suggest that you read the [corresponding resources](https://qiskit.org/documentation/apidoc/primitives.html) of the Qiskit Terra documentation instead.\n",
    "\n",
    "We use `qiskit.primitives.Sampler` in this guide as an example of Sampler implementation, which follows `qiskit.primitives.BaseSampler` interface. Users can also use other Sampler implementations such as `BackendSampler` (qiskit-terra), `AerSampler` (qiskit-aer), and Qiskit Runtime Sampler (qiskit-ibm-runtime)."
   ]
  },
  {
   "cell_type": "markdown",
   "metadata": {},
   "source": [
    "## `MinimumEigenOptimizer`\n",
    "\n"
   ]
  },
  {
   "cell_type": "markdown",
   "metadata": {},
   "source": [
    "The former algorithms exist in `qiskit.algorithms.minimum_eigen_solvers` and we can access them by `qiskit.algorithms.*`. On the other hand, the new algorithms exist in `qiskit.algorithms.minimum_eigensolvers` and we can access them by `qiskit.algorithms.minimum_eigensolvers.*`. Note that the difference is `minimum_eigen_solvers` (former) and `minimum_eigensolvers` (new).\n",
    "\n",
    "`MinimumEigenOptimizer` of Qiskit Optimization can use `qiskit.algorithms.MinimumEigenSolver` interface of the former algorithms and \n",
    "`qiskit.algorithms.minimum_eigensolvers.SamplingMinimumEigensolver` interface of the new algorithms.\n",
    "Note that `MinimumEigenOptimizer` cannot basically handle `qiskit.algorithms.minimum_eigensolvers.MinimumEigensolver` of the new algorithms.\n",
    "But there is an exception. `MinimumEigenOptimizer` can handle `algorithms.minimum_eigensolver.NumPyMinimumEigensolver` though it inherits `qiskit.algorithms.minimum_eigensolvers.MinimumEigensolver`. It is because `algorithms.minimum_eigensolver.NumPyMinimumEigensolver` has an extension that allows users to access the eigen states.\n",
    "\n",
    "The following is the corresponding table.\n",
    "\n",
    "|Former algorithm | New algorithm | \n",
    "|-----------------|:--------------|\n",
    "|`qiskit.algorithms.MinimumEigenSolver`|`qiskit.algorithms.minimum_eigensolvers.SamplingMinimumEigensolver`|\n",
    "|`qiskit.algorithms.NumPyMinimumEigensolver`|`qiskit.algorithms.minimum_eigensolver.NumPyMinimumEigensolver`|\n",
    "|`qiskit.algorithms.QAOA`|`qiskit.algorithms.minimum_eigensolvers.QAOA`|\n",
    "|`qiskit.algorithms.VQE`|`qiskit.algorithms.minimum_eigensolvers.SamplingVQE`|"
   ]
  },
  {
   "cell_type": "markdown",
   "metadata": {},
   "source": [
    "Setup of a problem"
   ]
  },
  {
   "cell_type": "code",
   "execution_count": 1,
   "metadata": {},
   "outputs": [
    {
     "name": "stdout",
     "output_type": "stream",
     "text": [
      "Problem name: sample\n",
      "\n",
      "Maximize\n",
      "  x - 2*y\n",
      "\n",
      "Subject to\n",
      "  No constraints\n",
      "\n",
      "  Binary variables (2)\n",
      "    x y\n",
      "\n"
     ]
    }
   ],
   "source": [
    "from qiskit_optimization import QuadraticProgram\n",
    "\n",
    "problem = QuadraticProgram(\"sample\")\n",
    "problem.binary_var(\"x\")\n",
    "problem.binary_var(\"y\")\n",
    "problem.maximize(linear={\"x\": 1, \"y\": -2})\n",
    "print(problem.prettyprint())"
   ]
  },
  {
   "cell_type": "markdown",
   "metadata": {},
   "source": [
    "### NumPyMinimumEigensolver\n",
    "\n",
    "Previously"
   ]
  },
  {
   "cell_type": "code",
   "execution_count": 2,
   "metadata": {},
   "outputs": [
    {
     "name": "stdout",
     "output_type": "stream",
     "text": [
      "fval=1.0, x=1.0, y=0.0, status=SUCCESS\n"
     ]
    }
   ],
   "source": [
    "from qiskit.algorithms import NumPyMinimumEigensolver\n",
    "\n",
    "from qiskit_optimization.algorithms import MinimumEigenOptimizer\n",
    "\n",
    "mes = NumPyMinimumEigensolver()\n",
    "meo = MinimumEigenOptimizer(min_eigen_solver=mes)\n",
    "result = meo.solve(problem)\n",
    "print(result)"
   ]
  },
  {
   "cell_type": "markdown",
   "metadata": {},
   "source": [
    "New"
   ]
  },
  {
   "cell_type": "code",
   "execution_count": 3,
   "metadata": {},
   "outputs": [
    {
     "name": "stdout",
     "output_type": "stream",
     "text": [
      "fval=1.0, x=1.0, y=0.0, status=SUCCESS\n"
     ]
    }
   ],
   "source": [
    "from qiskit.algorithms.minimum_eigensolvers import NumPyMinimumEigensolver\n",
    "\n",
    "from qiskit_optimization.algorithms import MinimumEigenOptimizer\n",
    "\n",
    "mes = NumPyMinimumEigensolver()\n",
    "meo = MinimumEigenOptimizer(min_eigen_solver=mes)\n",
    "result = meo.solve(problem)\n",
    "print(result)"
   ]
  },
  {
   "cell_type": "markdown",
   "metadata": {},
   "source": [
    "### QAOA\n",
    "\n",
    "Previously"
   ]
  },
  {
   "cell_type": "code",
   "execution_count": 4,
   "metadata": {},
   "outputs": [
    {
     "name": "stdout",
     "output_type": "stream",
     "text": [
      "fval=1.0, x=1.0, y=0.0, status=SUCCESS\n"
     ]
    }
   ],
   "source": [
    "from qiskit import BasicAer\n",
    "from qiskit.algorithms import QAOA\n",
    "from qiskit.algorithms.optimizers import COBYLA\n",
    "from qiskit.utils import QuantumInstance\n",
    "\n",
    "from qiskit_optimization.algorithms import MinimumEigenOptimizer\n",
    "\n",
    "backend = BasicAer.get_backend(\"qasm_simulator\")\n",
    "shots = 1000\n",
    "qins = QuantumInstance(backend=backend, shots=shots)\n",
    "mes = QAOA(optimizer=COBYLA(), quantum_instance=qins)\n",
    "meo = MinimumEigenOptimizer(min_eigen_solver=mes)\n",
    "result = meo.solve(problem)\n",
    "print(result)"
   ]
  },
  {
   "cell_type": "markdown",
   "metadata": {},
   "source": [
    "New"
   ]
  },
  {
   "cell_type": "code",
   "execution_count": 5,
   "metadata": {},
   "outputs": [
    {
     "name": "stdout",
     "output_type": "stream",
     "text": [
      "fval=1.0, x=1.0, y=0.0, status=SUCCESS\n"
     ]
    }
   ],
   "source": [
    "from qiskit.algorithms.minimum_eigensolvers import QAOA\n",
    "from qiskit.algorithms.optimizers import COBYLA\n",
    "from qiskit.primitives import Sampler\n",
    "\n",
    "from qiskit_optimization.algorithms import MinimumEigenOptimizer\n",
    "\n",
    "shots = 1000\n",
    "mes = QAOA(sampler=Sampler(), optimizer=COBYLA())\n",
    "meo = MinimumEigenOptimizer(min_eigen_solver=mes)\n",
    "result = meo.solve(problem)\n",
    "print(result)"
   ]
  },
  {
   "cell_type": "markdown",
   "metadata": {},
   "source": [
    "### VQE (former) → SamplingVQE (new)\n",
    "\n",
    "Previously"
   ]
  },
  {
   "cell_type": "code",
   "execution_count": 6,
   "metadata": {},
   "outputs": [
    {
     "name": "stdout",
     "output_type": "stream",
     "text": [
      "fval=1.0, x=1.0, y=0.0, status=SUCCESS\n"
     ]
    }
   ],
   "source": [
    "from qiskit import BasicAer\n",
    "from qiskit.algorithms import VQE\n",
    "from qiskit.algorithms.optimizers import COBYLA\n",
    "from qiskit.circuit.library import RealAmplitudes\n",
    "from qiskit.utils import QuantumInstance\n",
    "\n",
    "from qiskit_optimization.algorithms import MinimumEigenOptimizer\n",
    "\n",
    "backend = BasicAer.get_backend(\"qasm_simulator\")\n",
    "shots = 1000\n",
    "qins = QuantumInstance(backend=backend, shots=shots)\n",
    "mes = VQE(ansatz=RealAmplitudes(), optimizer=COBYLA(), quantum_instance=qins)\n",
    "meo = MinimumEigenOptimizer(min_eigen_solver=mes)\n",
    "result = meo.solve(problem)\n",
    "print(result)"
   ]
  },
  {
   "cell_type": "markdown",
   "metadata": {},
   "source": [
    "New"
   ]
  },
  {
   "cell_type": "code",
   "execution_count": 7,
   "metadata": {},
   "outputs": [
    {
     "name": "stdout",
     "output_type": "stream",
     "text": [
      "fval=1.0, x=1.0, y=0.0, status=SUCCESS\n"
     ]
    }
   ],
   "source": [
    "from qiskit.algorithms.minimum_eigensolvers import SamplingVQE\n",
    "from qiskit.algorithms.optimizers import COBYLA\n",
    "from qiskit.circuit.library import RealAmplitudes\n",
    "from qiskit.primitives import Sampler\n",
    "\n",
    "from qiskit_optimization.algorithms import MinimumEigenOptimizer\n",
    "\n",
    "mes = SamplingVQE(sampler=Sampler(), ansatz=RealAmplitudes(), optimizer=COBYLA())\n",
    "meo = MinimumEigenOptimizer(min_eigen_solver=mes)\n",
    "result = meo.solve(problem)\n",
    "print(result)"
   ]
  },
  {
   "cell_type": "markdown",
   "metadata": {},
   "source": [
    "An error occurs due to `VQE` with `Estimator`. You can use `SamplingVQE` with `Sampler` instead (see the previous cell)."
   ]
  },
  {
   "cell_type": "code",
   "execution_count": 8,
   "metadata": {},
   "outputs": [
    {
     "name": "stdout",
     "output_type": "stream",
     "text": [
      "MinimumEigenOptimizer does not support this VQE. You can use  qiskit.algorithms.minimum_eigensolvers.SamplingVQE instead.\n"
     ]
    }
   ],
   "source": [
    "from qiskit.algorithms.minimum_eigensolvers import VQE\n",
    "from qiskit.algorithms.optimizers import COBYLA\n",
    "from qiskit.circuit.library import RealAmplitudes\n",
    "from qiskit.primitives import Estimator\n",
    "\n",
    "from qiskit_optimization.algorithms import MinimumEigenOptimizer\n",
    "\n",
    "mes = VQE(estimator=Estimator(), ansatz=RealAmplitudes(), optimizer=COBYLA())\n",
    "try:\n",
    "    meo = MinimumEigenOptimizer(min_eigen_solver=mes)\n",
    "except TypeError as ex:\n",
    "    print(ex)"
   ]
  },
  {
   "cell_type": "markdown",
   "metadata": {},
   "source": [
    "## `WarmStartQAOAOptimizer`"
   ]
  },
  {
   "cell_type": "markdown",
   "metadata": {},
   "source": [
    "`WarmStartQAOAOptimizer` can use both the former `qiskit.algorithms.QAOA` and the new `qiskit.algorithms.minimum_eigensolvers.QAOA` as follows."
   ]
  },
  {
   "cell_type": "markdown",
   "metadata": {},
   "source": [
    "Previously"
   ]
  },
  {
   "cell_type": "code",
   "execution_count": 9,
   "metadata": {},
   "outputs": [
    {
     "name": "stdout",
     "output_type": "stream",
     "text": [
      "fval=1.0, x=1.0, y=0.0, status=SUCCESS\n"
     ]
    }
   ],
   "source": [
    "from qiskit import BasicAer\n",
    "from qiskit.algorithms import QAOA\n",
    "from qiskit.algorithms.optimizers import COBYLA\n",
    "from qiskit.utils import QuantumInstance\n",
    "\n",
    "from qiskit_optimization.algorithms import WarmStartQAOAOptimizer, SlsqpOptimizer\n",
    "\n",
    "backend = BasicAer.get_backend(\"qasm_simulator\")\n",
    "shots = 1000\n",
    "qins = QuantumInstance(backend=backend, shots=shots)\n",
    "qaoa = QAOA(optimizer=COBYLA(), quantum_instance=qins)\n",
    "optimizer = WarmStartQAOAOptimizer(\n",
    "    pre_solver=SlsqpOptimizer(), relax_for_pre_solver=True, qaoa=qaoa, epsilon=0.25\n",
    ")\n",
    "result = optimizer.solve(problem)\n",
    "print(result)"
   ]
  },
  {
   "cell_type": "markdown",
   "metadata": {},
   "source": [
    "New"
   ]
  },
  {
   "cell_type": "code",
   "execution_count": 10,
   "metadata": {},
   "outputs": [
    {
     "name": "stdout",
     "output_type": "stream",
     "text": [
      "fval=1.0, x=1.0, y=0.0, status=SUCCESS\n"
     ]
    }
   ],
   "source": [
    "from qiskit.algorithms.minimum_eigensolvers import QAOA\n",
    "from qiskit.algorithms.optimizers import COBYLA\n",
    "from qiskit.primitives import Sampler\n",
    "\n",
    "from qiskit_optimization.algorithms import WarmStartQAOAOptimizer, SlsqpOptimizer\n",
    "\n",
    "qaoa = QAOA(sampler=Sampler(), optimizer=COBYLA())\n",
    "optimizer = WarmStartQAOAOptimizer(\n",
    "    pre_solver=SlsqpOptimizer(), relax_for_pre_solver=True, qaoa=qaoa, epsilon=0.25\n",
    ")\n",
    "result = optimizer.solve(problem)\n",
    "print(result)"
   ]
  },
  {
   "cell_type": "markdown",
   "metadata": {},
   "source": [
    "## `GroverOptimizer`"
   ]
  },
  {
   "cell_type": "markdown",
   "metadata": {},
   "source": [
    "`GroverOptimizer` supports both `QuantumInstance` and `BaseSampler`. But users must specify one of them."
   ]
  },
  {
   "cell_type": "markdown",
   "metadata": {},
   "source": [
    "Previously"
   ]
  },
  {
   "cell_type": "code",
   "execution_count": 11,
   "metadata": {},
   "outputs": [
    {
     "name": "stdout",
     "output_type": "stream",
     "text": [
      "fval=1.0, x=1.0, y=0.0, status=SUCCESS\n"
     ]
    }
   ],
   "source": [
    "from qiskit import BasicAer\n",
    "from qiskit.algorithms.optimizers import COBYLA\n",
    "from qiskit.utils import QuantumInstance\n",
    "\n",
    "from qiskit_optimization.algorithms import GroverOptimizer\n",
    "\n",
    "backend = BasicAer.get_backend(\"qasm_simulator\")\n",
    "shots = 1000\n",
    "qins = QuantumInstance(backend=backend, shots=shots)\n",
    "optimizer = GroverOptimizer(num_value_qubits=3, num_iterations=3, quantum_instance=qins)\n",
    "result = optimizer.solve(problem)\n",
    "print(result)"
   ]
  },
  {
   "cell_type": "markdown",
   "metadata": {},
   "source": [
    "New"
   ]
  },
  {
   "cell_type": "code",
   "execution_count": 12,
   "metadata": {},
   "outputs": [
    {
     "name": "stdout",
     "output_type": "stream",
     "text": [
      "fval=0.0, x=0.0, y=0.0, status=SUCCESS\n"
     ]
    }
   ],
   "source": [
    "from qiskit.algorithms.optimizers import COBYLA\n",
    "from qiskit.primitives import Sampler\n",
    "\n",
    "from qiskit_optimization.algorithms import GroverOptimizer\n",
    "\n",
    "optimizer = GroverOptimizer(num_value_qubits=3, num_iterations=3, sampler=Sampler())\n",
    "result = optimizer.solve(problem)\n",
    "print(result)"
   ]
  },
  {
   "cell_type": "markdown",
   "metadata": {},
   "source": [
    "An error occurs because both `quantum_instance` and `sampler` are set. You can set only one of them."
   ]
  },
  {
   "cell_type": "code",
   "execution_count": 13,
   "metadata": {},
   "outputs": [
    {
     "name": "stdout",
     "output_type": "stream",
     "text": [
      "Only one of quantum_instance or sampler can be passed, not both!\n"
     ]
    }
   ],
   "source": [
    "from qiskit import BasicAer\n",
    "from qiskit.algorithms.optimizers import COBYLA\n",
    "from qiskit.utils import QuantumInstance\n",
    "from qiskit.primitives import Sampler\n",
    "\n",
    "from qiskit_optimization.algorithms import GroverOptimizer\n",
    "\n",
    "backend = BasicAer.get_backend(\"qasm_simulator\")\n",
    "shots = 1000\n",
    "qins = QuantumInstance(backend=backend, shots=shots)\n",
    "try:\n",
    "    optimizer = GroverOptimizer(\n",
    "        num_value_qubits=3, num_iterations=3, quantum_instance=qins, sampler=Sampler()\n",
    "    )\n",
    "    # raises an error because both quantum_instance and sampler are set.\n",
    "except ValueError as ex:\n",
    "    print(ex)"
   ]
  },
  {
   "cell_type": "code",
   "execution_count": 14,
   "metadata": {},
   "outputs": [
    {
     "data": {
      "text/html": [
       "<h3>Version Information</h3><table><tr><th>Qiskit Software</th><th>Version</th></tr><tr><td><code>qiskit-terra</code></td><td>0.23.0</td></tr><tr><td><code>qiskit-aer</code></td><td>0.11.1</td></tr><tr><td><code>qiskit-optimization</code></td><td>0.5.0</td></tr><tr><td><code>qiskit-machine-learning</code></td><td>0.6.0</td></tr><tr><th>System information</th></tr><tr><td>Python version</td><td>3.9.15</td></tr><tr><td>Python compiler</td><td>Clang 14.0.0 (clang-1400.0.29.102)</td></tr><tr><td>Python build</td><td>main, Oct 11 2022 22:27:25</td></tr><tr><td>OS</td><td>Darwin</td></tr><tr><td>CPUs</td><td>4</td></tr><tr><td>Memory (Gb)</td><td>16.0</td></tr><tr><td colspan='2'>Tue Dec 06 22:08:13 2022 JST</td></tr></table>"
      ],
      "text/plain": [
       "<IPython.core.display.HTML object>"
      ]
     },
     "metadata": {},
     "output_type": "display_data"
    },
    {
     "data": {
      "text/html": [
       "<div style='width: 100%; background-color:#d5d9e0;padding-left: 10px; padding-bottom: 10px; padding-right: 10px; padding-top: 5px'><h3>This code is a part of Qiskit</h3><p>&copy; Copyright IBM 2017, 2022.</p><p>This code is licensed under the Apache License, Version 2.0. You may<br>obtain a copy of this license in the LICENSE.txt file in the root directory<br> of this source tree or at http://www.apache.org/licenses/LICENSE-2.0.<p>Any modifications or derivative works of this code must retain this<br>copyright notice, and modified files need to carry a notice indicating<br>that they have been altered from the originals.</p></div>"
      ],
      "text/plain": [
       "<IPython.core.display.HTML object>"
      ]
     },
     "metadata": {},
     "output_type": "display_data"
    }
   ],
   "source": [
    "import qiskit.tools.jupyter\n",
    "\n",
    "%qiskit_version_table\n",
    "%qiskit_copyright"
   ]
  }
 ],
 "metadata": {
  "language_info": {
   "name": "python"
  }
 },
 "nbformat": 4,
 "nbformat_minor": 2
}
