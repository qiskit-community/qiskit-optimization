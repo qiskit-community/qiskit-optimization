{
 "cells": [
  {
   "cell_type": "markdown",
   "metadata": {},
   "source": [
    "# Minimum Eigen Optimizer\n"
   ]
  },
  {
   "cell_type": "markdown",
   "metadata": {},
   "source": [
    "## Introduction"
   ]
  },
  {
   "cell_type": "markdown",
   "metadata": {},
   "source": [
    "An interesting class of optimization problems to be addressed by quantum computing are Quadratic Unconstrained Binary Optimization (QUBO) problems.\n",
    "Finding the solution to a QUBO is equivalent to finding the ground state of a corresponding Ising Hamiltonian, which is an important problem not only in optimization, but also in quantum chemistry and physics. For this translation, the binary variables taking values in $\\{0, 1\\}$ are replaced by spin variables taking values in $\\{-1, +1\\}$, which allows one to replace the resulting spin variables by Pauli Z matrices, and thus, an Ising Hamiltonian. For more details on this mapping we refer to [1].\n",
    "\n",
    "Qiskit provides automatic conversion from a suitable `QuadraticProgram` to an Ising Hamiltonian, which then allows leveraging all the `SamplingMinimumEigensolver` implementations, such as\n",
    "\n",
    "- `SamplingVQE`,\n",
    "- `QAOA`, or\n",
    "- `NumpyMinimumEigensolver` (classical exact method).\n",
    "\n",
    "Note 1: `MinimumEigenOptimizer` does not support `qiskit.algorithms.minimum_eigensolver.VQE`. But `qiskit.algorithms.minimum_eigensolver.SamplingVQE`\n",
    "can be used instead.\n",
    "\n",
    "Note 2: `MinimumEigenOptimizer` can use `NumpyMinimumEigensolver` as an exception case though it inherits `MinimumEigensolver` (not `SamplingMinimumEigensolver`).\n",
    "\n",
    "Qiskit Optimization provides a the `MinimumEigenOptimizer` class, which wraps the translation to an Ising Hamiltonian (in Qiskit Terra also called `Operator`), the call to a `MinimumEigensolver`, and the translation of the results back to an `OptimizationResult`.\n",
    "\n",
    "In the following we first illustrate the conversion from a `QuadraticProgram` to an `Operator` and then show how to use the `MinimumEigenOptimizer` with different `MinimumEigensolver`s to solve a given `QuadraticProgram`.\n",
    "The algorithms in Qiskit automatically try to convert a given problem to the supported problem class if possible, for instance, the `MinimumEigenOptimizer` will automatically translate integer variables to binary variables or add linear equality constraints as a quadratic penalty term to the objective. It should be mentioned that a `QiskitOptimizationError` will be thrown if conversion of a quadratic program with integer variables is attempted.\n",
    "\n",
    "The circuit depth of `QAOA` potentially has to be increased with the problem size, which might be prohibitive for near-term quantum devices.\n",
    "A possible workaround is Recursive QAOA, as introduced in [2].\n",
    "Qiskit generalizes this concept to the `RecursiveMinimumEigenOptimizer`, which is introduced at the end of this tutorial.\n",
    "\n",
    "### References\n",
    "[1] [A. Lucas, *Ising formulations of many NP problems,* Front. Phys., 12 (2014).](https://arxiv.org/abs/1302.5843)\n",
    "\n",
    "[2] [S. Bravyi, A. Kliesch, R. Koenig, E. Tang, *Obstacles to State Preparation and Variational Optimization from Symmetry Protection,* arXiv  preprint arXiv:1910.08980 (2019).](https://arxiv.org/abs/1910.08980)"
   ]
  },
  {
   "cell_type": "markdown",
   "metadata": {},
   "source": [
    "## Converting a QUBO to an Operator"
   ]
  },
  {
   "cell_type": "code",
   "execution_count": 1,
   "metadata": {},
   "outputs": [],
   "source": [
    "from qiskit.utils import algorithm_globals\n",
    "from qiskit.algorithms.minimum_eigensolvers import QAOA, NumPyMinimumEigensolver\n",
    "from qiskit.algorithms.optimizers import COBYLA\n",
    "from qiskit.primitives import Sampler\n",
    "from qiskit_optimization.algorithms import (\n",
    "    MinimumEigenOptimizer,\n",
    "    RecursiveMinimumEigenOptimizer,\n",
    "    SolutionSample,\n",
    "    OptimizationResultStatus,\n",
    ")\n",
    "from qiskit_optimization import QuadraticProgram\n",
    "from qiskit.visualization import plot_histogram\n",
    "from typing import List, Tuple\n",
    "import numpy as np"
   ]
  },
  {
   "cell_type": "code",
   "execution_count": 2,
   "metadata": {},
   "outputs": [
    {
     "name": "stdout",
     "output_type": "stream",
     "text": [
      "Problem name: \n",
      "\n",
      "Minimize\n",
      "  x*y - x*z + 2*y*z + x - 2*y + 3*z\n",
      "\n",
      "Subject to\n",
      "  No constraints\n",
      "\n",
      "  Binary variables (3)\n",
      "    x y z\n",
      "\n"
     ]
    }
   ],
   "source": [
    "# create a QUBO\n",
    "qubo = QuadraticProgram()\n",
    "qubo.binary_var(\"x\")\n",
    "qubo.binary_var(\"y\")\n",
    "qubo.binary_var(\"z\")\n",
    "qubo.minimize(linear=[1, -2, 3], quadratic={(\"x\", \"y\"): 1, (\"x\", \"z\"): -1, (\"y\", \"z\"): 2})\n",
    "print(qubo.prettyprint())"
   ]
  },
  {
   "cell_type": "markdown",
   "metadata": {},
   "source": [
    "Next we translate this QUBO into an Ising operator. This results not only in an `Operator` but also in a constant offset to be taken into account to shift the resulting value."
   ]
  },
  {
   "cell_type": "code",
   "execution_count": 3,
   "metadata": {},
   "outputs": [
    {
     "name": "stdout",
     "output_type": "stream",
     "text": [
      "offset: 1.5\n",
      "operator:\n",
      "-0.5 * IIZ\n",
      "+ 0.25 * IZI\n",
      "- 1.75 * ZII\n",
      "+ 0.25 * IZZ\n",
      "- 0.25 * ZIZ\n",
      "+ 0.5 * ZZI\n"
     ]
    }
   ],
   "source": [
    "op, offset = qubo.to_ising()\n",
    "print(\"offset: {}\".format(offset))\n",
    "print(\"operator:\")\n",
    "print(op)"
   ]
  },
  {
   "cell_type": "markdown",
   "metadata": {},
   "source": [
    "Sometimes a `QuadraticProgram` might also directly be given in the form of an `Operator`. For such cases, Qiskit also provides a translator from an `Operator` back to a `QuadraticProgram`, which we illustrate in the following."
   ]
  },
  {
   "cell_type": "code",
   "execution_count": 4,
   "metadata": {},
   "outputs": [
    {
     "name": "stdout",
     "output_type": "stream",
     "text": [
      "Problem name: \n",
      "\n",
      "Minimize\n",
      "  x0*x1 - x0*x2 + 2*x1*x2 + x0 - 2*x1 + 3*x2\n",
      "\n",
      "Subject to\n",
      "  No constraints\n",
      "\n",
      "  Binary variables (3)\n",
      "    x0 x1 x2\n",
      "\n"
     ]
    }
   ],
   "source": [
    "qp = QuadraticProgram()\n",
    "qp.from_ising(op, offset, linear=True)\n",
    "print(qp.prettyprint())"
   ]
  },
  {
   "cell_type": "markdown",
   "metadata": {},
   "source": [
    "This translator allows, for instance, one to translate an `Operator` to a `QuadraticProgram` and then solve the problem with other algorithms that are not based on the Ising Hamiltonian representation, such as the `GroverOptimizer`."
   ]
  },
  {
   "cell_type": "markdown",
   "metadata": {},
   "source": [
    "## Solving a QUBO with the MinimumEigenOptimizer"
   ]
  },
  {
   "cell_type": "markdown",
   "metadata": {},
   "source": [
    "We start by initializing the `MinimumEigensolver` we want to use."
   ]
  },
  {
   "cell_type": "code",
   "execution_count": 5,
   "metadata": {},
   "outputs": [],
   "source": [
    "algorithm_globals.random_seed = 10598\n",
    "qaoa_mes = QAOA(sampler=Sampler(), optimizer=COBYLA(), initial_point=[0.0, 0.0])\n",
    "exact_mes = NumPyMinimumEigensolver()"
   ]
  },
  {
   "cell_type": "markdown",
   "metadata": {},
   "source": [
    "Then, we use the `MinimumEigensolver` to create `MinimumEigenOptimizer`."
   ]
  },
  {
   "cell_type": "code",
   "execution_count": 6,
   "metadata": {},
   "outputs": [],
   "source": [
    "qaoa = MinimumEigenOptimizer(qaoa_mes)  # using QAOA\n",
    "exact = MinimumEigenOptimizer(exact_mes)  # using the exact classical numpy minimum eigen solver"
   ]
  },
  {
   "cell_type": "markdown",
   "metadata": {},
   "source": [
    "We first use the `MinimumEigenOptimizer` based on the classical exact `NumPyMinimumEigensolver` to get the optimal benchmark solution for this small example."
   ]
  },
  {
   "cell_type": "code",
   "execution_count": 7,
   "metadata": {},
   "outputs": [
    {
     "name": "stdout",
     "output_type": "stream",
     "text": [
      "objective function value: -2.0\n",
      "variable values: x=0.0, y=1.0, z=0.0\n",
      "status: SUCCESS\n"
     ]
    }
   ],
   "source": [
    "exact_result = exact.solve(qubo)\n",
    "print(exact_result.prettyprint())"
   ]
  },
  {
   "cell_type": "markdown",
   "metadata": {},
   "source": [
    "Next we apply the `MinimumEigenOptimizer` based on `QAOA` to the same problem."
   ]
  },
  {
   "cell_type": "code",
   "execution_count": 8,
   "metadata": {},
   "outputs": [
    {
     "name": "stdout",
     "output_type": "stream",
     "text": [
      "objective function value: -2.0\n",
      "variable values: x=0.0, y=1.0, z=0.0\n",
      "status: SUCCESS\n"
     ]
    }
   ],
   "source": [
    "qaoa_result = qaoa.solve(qubo)\n",
    "print(qaoa_result.prettyprint())"
   ]
  },
  {
   "cell_type": "markdown",
   "metadata": {},
   "source": [
    "### Analysis of Samples\n",
    "`OptimizationResult` provides useful information in the form of `SolutionSample`s (here denoted as *samples*). Each `SolutionSample` contains\n",
    "information about the input values (`x`), the corresponding objective function value (`fval`), the fraction of samples corresponding to that input (`probability`),\n",
    "and the solution `status` (`SUCCESS`, `FAILURE`, `INFEASIBLE`). Multiple samples corresponding to the same input are consolidated into a single `SolutionSample` (with its `probability` attribute being the aggregate fraction of samples represented by that `SolutionSample`)."
   ]
  },
  {
   "cell_type": "code",
   "execution_count": 9,
   "metadata": {},
   "outputs": [
    {
     "name": "stdout",
     "output_type": "stream",
     "text": [
      "variable order: ['x', 'y', 'z']\n",
      "SolutionSample(x=array([0., 1., 0.]), fval=-2.0, probability=0.4410306097905226, status=<OptimizationResultStatus.SUCCESS: 0>)\n",
      "SolutionSample(x=array([0., 0., 0.]), fval=0.0, probability=0.22763693649873265, status=<OptimizationResultStatus.SUCCESS: 0>)\n",
      "SolutionSample(x=array([1., 1., 0.]), fval=0.0, probability=0.14136368254300133, status=<OptimizationResultStatus.SUCCESS: 0>)\n",
      "SolutionSample(x=array([1., 0., 0.]), fval=1.0, probability=0.12574358779906872, status=<OptimizationResultStatus.SUCCESS: 0>)\n",
      "SolutionSample(x=array([0., 0., 1.]), fval=3.0, probability=0.020510231887331747, status=<OptimizationResultStatus.SUCCESS: 0>)\n",
      "SolutionSample(x=array([1., 0., 1.]), fval=3.0, probability=0.030444770051099967, status=<OptimizationResultStatus.SUCCESS: 0>)\n",
      "SolutionSample(x=array([0., 1., 1.]), fval=3.0, probability=0.012349858838771063, status=<OptimizationResultStatus.SUCCESS: 0>)\n",
      "SolutionSample(x=array([1., 1., 1.]), fval=4.0, probability=0.0009203225914718031, status=<OptimizationResultStatus.SUCCESS: 0>)\n"
     ]
    }
   ],
   "source": [
    "print(\"variable order:\", [var.name for var in qaoa_result.variables])\n",
    "for s in qaoa_result.samples:\n",
    "    print(s)"
   ]
  },
  {
   "cell_type": "markdown",
   "metadata": {},
   "source": [
    "We may also want to filter samples according to their status or probabilities."
   ]
  },
  {
   "cell_type": "code",
   "execution_count": 10,
   "metadata": {},
   "outputs": [],
   "source": [
    "def get_filtered_samples(\n",
    "    samples: List[SolutionSample],\n",
    "    threshold: float = 0,\n",
    "    allowed_status: Tuple[OptimizationResultStatus] = (OptimizationResultStatus.SUCCESS,),\n",
    "):\n",
    "    res = []\n",
    "    for s in samples:\n",
    "        if s.status in allowed_status and s.probability > threshold:\n",
    "            res.append(s)\n",
    "\n",
    "    return res"
   ]
  },
  {
   "cell_type": "code",
   "execution_count": 11,
   "metadata": {},
   "outputs": [
    {
     "name": "stdout",
     "output_type": "stream",
     "text": [
      "SolutionSample(x=array([0., 1., 0.]), fval=-2.0, probability=0.4410306097905226, status=<OptimizationResultStatus.SUCCESS: 0>)\n",
      "SolutionSample(x=array([0., 0., 0.]), fval=0.0, probability=0.22763693649873265, status=<OptimizationResultStatus.SUCCESS: 0>)\n",
      "SolutionSample(x=array([1., 1., 0.]), fval=0.0, probability=0.14136368254300133, status=<OptimizationResultStatus.SUCCESS: 0>)\n",
      "SolutionSample(x=array([1., 0., 0.]), fval=1.0, probability=0.12574358779906872, status=<OptimizationResultStatus.SUCCESS: 0>)\n",
      "SolutionSample(x=array([0., 0., 1.]), fval=3.0, probability=0.020510231887331747, status=<OptimizationResultStatus.SUCCESS: 0>)\n",
      "SolutionSample(x=array([1., 0., 1.]), fval=3.0, probability=0.030444770051099967, status=<OptimizationResultStatus.SUCCESS: 0>)\n",
      "SolutionSample(x=array([0., 1., 1.]), fval=3.0, probability=0.012349858838771063, status=<OptimizationResultStatus.SUCCESS: 0>)\n"
     ]
    }
   ],
   "source": [
    "filtered_samples = get_filtered_samples(\n",
    "    qaoa_result.samples, threshold=0.005, allowed_status=(OptimizationResultStatus.SUCCESS,)\n",
    ")\n",
    "for s in filtered_samples:\n",
    "    print(s)"
   ]
  },
  {
   "cell_type": "markdown",
   "metadata": {},
   "source": [
    "If we want to obtain a better perspective of the results, statistics is very helpful, both with respect to\n",
    "the objective function values and their respective probabilities. Thus, mean and standard deviation are the very\n",
    "basics for understanding the results."
   ]
  },
  {
   "cell_type": "code",
   "execution_count": 12,
   "metadata": {},
   "outputs": [],
   "source": [
    "fvals = [s.fval for s in qaoa_result.samples]\n",
    "probabilities = [s.probability for s in qaoa_result.samples]"
   ]
  },
  {
   "cell_type": "code",
   "execution_count": 13,
   "metadata": {},
   "outputs": [
    {
     "data": {
      "text/plain": [
       "1.5"
      ]
     },
     "execution_count": 13,
     "metadata": {},
     "output_type": "execute_result"
    }
   ],
   "source": [
    "np.mean(fvals)"
   ]
  },
  {
   "cell_type": "code",
   "execution_count": 14,
   "metadata": {},
   "outputs": [
    {
     "data": {
      "text/plain": [
       "1.9364916731037085"
      ]
     },
     "execution_count": 14,
     "metadata": {},
     "output_type": "execute_result"
    }
   ],
   "source": [
    "np.std(fvals)"
   ]
  },
  {
   "cell_type": "markdown",
   "metadata": {},
   "source": [
    "Finally, despite all the number-crunching, visualization is usually the best early-analysis approach."
   ]
  },
  {
   "cell_type": "code",
   "execution_count": 15,
   "metadata": {},
   "outputs": [
    {
     "data": {
      "text/plain": [
       "{'x=0 y=1 z=0': 0.4410306097905226,\n",
       " 'x=0 y=0 z=0': 0.22763693649873265,\n",
       " 'x=1 y=1 z=0': 0.14136368254300133,\n",
       " 'x=1 y=0 z=0': 0.12574358779906872,\n",
       " 'x=0 y=0 z=1': 0.020510231887331747,\n",
       " 'x=1 y=0 z=1': 0.030444770051099967,\n",
       " 'x=0 y=1 z=1': 0.012349858838771063}"
      ]
     },
     "execution_count": 15,
     "metadata": {},
     "output_type": "execute_result"
    }
   ],
   "source": [
    "samples_for_plot = {\n",
    "    \" \".join(f\"{qaoa_result.variables[i].name}={int(v)}\" for i, v in enumerate(s.x)): s.probability\n",
    "    for s in filtered_samples\n",
    "}\n",
    "samples_for_plot"
   ]
  },
  {
   "cell_type": "code",
   "execution_count": 16,
   "metadata": {},
   "outputs": [
    {
     "data": {
      "image/png": "[encoded data removed]",
      "text/plain": [
       "<Figure size 700x500 with 1 Axes>"
      ]
     },
     "execution_count": 16,
     "metadata": {},
     "output_type": "execute_result"
    }
   ],
   "source": [
    "plot_histogram(samples_for_plot)"
   ]
  },
  {
   "cell_type": "markdown",
   "metadata": {},
   "source": [
    "## RecursiveMinimumEigenOptimizer"
   ]
  },
  {
   "cell_type": "markdown",
   "metadata": {},
   "source": [
    "The `RecursiveMinimumEigenOptimizer` takes a `MinimumEigenOptimizer` as input and applies the recursive optimization scheme to reduce the size of the problem one variable at a time.\n",
    "Once the size of the generated intermediate problem is below a given threshold (`min_num_vars`), the `RecursiveMinimumEigenOptimizer` uses another solver (`min_num_vars_optimizer`), e.g., an exact classical solver such as CPLEX or the `MinimumEigenOptimizer` based on the `NumPyMinimumEigensolver`.\n",
    "\n",
    "In the following, we show how to use the `RecursiveMinimumEigenOptimizer` using the two `MinimumEigenOptimizer`s introduced before."
   ]
  },
  {
   "cell_type": "markdown",
   "metadata": {},
   "source": [
    "First, we construct the `RecursiveMinimumEigenOptimizer` such that it reduces the problem size from 3 variables to 1 variable and then uses the exact solver for the last variable. Then we call `solve` to optimize the considered problem."
   ]
  },
  {
   "cell_type": "code",
   "execution_count": 17,
   "metadata": {},
   "outputs": [],
   "source": [
    "rqaoa = RecursiveMinimumEigenOptimizer(qaoa, min_num_vars=1, min_num_vars_optimizer=exact)"
   ]
  },
  {
   "cell_type": "code",
   "execution_count": 18,
   "metadata": {},
   "outputs": [
    {
     "name": "stdout",
     "output_type": "stream",
     "text": [
      "objective function value: -2.0\n",
      "variable values: x=0.0, y=1.0, z=0.0\n",
      "status: SUCCESS\n"
     ]
    }
   ],
   "source": [
    "rqaoa_result = rqaoa.solve(qubo)\n",
    "print(rqaoa_result.prettyprint())"
   ]
  },
  {
   "cell_type": "code",
   "execution_count": 19,
   "metadata": {},
   "outputs": [],
   "source": [
    "filtered_samples = get_filtered_samples(\n",
    "    rqaoa_result.samples, threshold=0.005, allowed_status=(OptimizationResultStatus.SUCCESS,)\n",
    ")"
   ]
  },
  {
   "cell_type": "code",
   "execution_count": 20,
   "metadata": {},
   "outputs": [
    {
     "data": {
      "text/plain": [
       "{'x=0 y=1 z=0': 1.0}"
      ]
     },
     "execution_count": 20,
     "metadata": {},
     "output_type": "execute_result"
    }
   ],
   "source": [
    "samples_for_plot = {\n",
    "    \" \".join(f\"{rqaoa_result.variables[i].name}={int(v)}\" for i, v in enumerate(s.x)): s.probability\n",
    "    for s in filtered_samples\n",
    "}\n",
    "samples_for_plot"
   ]
  },
  {
   "cell_type": "code",
   "execution_count": 21,
   "metadata": {},
   "outputs": [
    {
     "data": {
      "image/png": "[encoded data removed]",
      "text/plain": [
       "<Figure size 700x500 with 1 Axes>"
      ]
     },
     "execution_count": 21,
     "metadata": {},
     "output_type": "execute_result"
    }
   ],
   "source": [
    "plot_histogram(samples_for_plot)"
   ]
  },
  {
   "cell_type": "code",
   "execution_count": 22,
   "metadata": {},
   "outputs": [
    {
     "data": {
      "text/html": [
       "<h3>Version Information</h3><table><tr><th>Qiskit Software</th><th>Version</th></tr><tr><td><code>qiskit-terra</code></td><td>0.23.0</td></tr><tr><td><code>qiskit-aer</code></td><td>0.11.1</td></tr><tr><td><code>qiskit-optimization</code></td><td>0.5.0</td></tr><tr><td><code>qiskit-machine-learning</code></td><td>0.6.0</td></tr><tr><th>System information</th></tr><tr><td>Python version</td><td>3.9.15</td></tr><tr><td>Python compiler</td><td>Clang 14.0.0 (clang-1400.0.29.102)</td></tr><tr><td>Python build</td><td>main, Oct 11 2022 22:27:25</td></tr><tr><td>OS</td><td>Darwin</td></tr><tr><td>CPUs</td><td>4</td></tr><tr><td>Memory (Gb)</td><td>16.0</td></tr><tr><td colspan='2'>Mon Dec 05 22:42:36 2022 JST</td></tr></table>"
      ],
      "text/plain": [
       "<IPython.core.display.HTML object>"
      ]
     },
     "metadata": {},
     "output_type": "display_data"
    },
    {
     "data": {
      "text/html": [
       "<div style='width: 100%; background-color:#d5d9e0;padding-left: 10px; padding-bottom: 10px; padding-right: 10px; padding-top: 5px'><h3>This code is a part of Qiskit</h3><p>&copy; Copyright IBM 2017, 2022.</p><p>This code is licensed under the Apache License, Version 2.0. You may<br>obtain a copy of this license in the LICENSE.txt file in the root directory<br> of this source tree or at http://www.apache.org/licenses/LICENSE-2.0.<p>Any modifications or derivative works of this code must retain this<br>copyright notice, and modified files need to carry a notice indicating<br>that they have been altered from the originals.</p></div>"
      ],
      "text/plain": [
       "<IPython.core.display.HTML object>"
      ]
     },
     "metadata": {},
     "output_type": "display_data"
    }
   ],
   "source": [
    "import qiskit.tools.jupyter\n",
    "\n",
    "%qiskit_version_table\n",
    "%qiskit_copyright"
   ]
  },
  {
   "cell_type": "code",
   "execution_count": null,
   "metadata": {},
   "outputs": [],
   "source": []
  }
 ],
 "metadata": {
  "language_info": {
   "name": "python"
  }
 },
 "nbformat": 4,
 "nbformat_minor": 4
}
