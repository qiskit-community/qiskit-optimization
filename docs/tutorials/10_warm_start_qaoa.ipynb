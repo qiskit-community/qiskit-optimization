{
 "cells": [
  {
   "cell_type": "markdown",
   "id": "hearing-simon",
   "metadata": {},
   "source": [
    "# Warm-starting quantum optimization\n",
    "\n",
    "## Introduction\n",
    "\n",
    "Optimization problems with integer variables or constraints are often hard to solve. For example, the Quadratic Unconstrained Binary Optimization (QUBO) problem, i.e.\n",
    "\n",
    "\\begin{align}\n",
    "\\min_{x\\in\\{0,1\\}^n}x^T\\Sigma x + \\mu^Tx,\n",
    "\\end{align}\n",
    "\n",
    "is NP-Hard. Here, $\\Sigma$ is an $n\\times n$ matrix and $x$ is a vector of $n$ binary variables. Note that we could have added the linear term $\\mu$ to the diagonal as $x_i^2=x_i$ for $x_i\\in\\{0, 1\\}$. While QUBOs are hard to solve there exists many ways to relax them to problems that are easier to solve.\n",
    "For example, if $\\Sigma$ is semi-definite positive the QUBO can be relaxed and results in a convex Quadratic Program \n",
    "\n",
    "\\begin{align}\n",
    "\\min_{x\\in[0,1]^n}x^T\\Sigma x,\n",
    "\\end{align}\n",
    "\n",
    "which becomes easy to solve as $x$ now represents $n$ continuous variables bound to the range $[0, 1]$.\n",
    "Such relaxations can be leveraged to warm-start quantum optimization algorithms as shown in [1].\n",
    "\n",
    "## References\n",
    "\n",
    "[1] [D. J. Egger, J Marecek, S. Woerner, *Warm-starting quantum optimization*, arXiv:2009.10095](http://arxiv.org/abs/2009.10095)"
   ]
  },
  {
   "cell_type": "code",
   "execution_count": 1,
   "id": "engaging-agreement",
   "metadata": {},
   "outputs": [],
   "source": [
    "import numpy as np\n",
    "import copy\n",
    "\n",
    "# Problem modelling imports\n",
    "from docplex.mp.model import Model\n",
    "\n",
    "# Qiskit imports\n",
    "from qiskit import BasicAer\n",
    "from qiskit.utils import QuantumInstance\n",
    "from qiskit.algorithms import QAOA, NumPyMinimumEigensolver\n",
    "from qiskit.utils.algorithm_globals import algorithm_globals\n",
    "from qiskit_optimization.algorithms import MinimumEigenOptimizer, CplexOptimizer\n",
    "from qiskit_optimization import QuadraticProgram\n",
    "from qiskit_optimization.problems.variable import VarType\n",
    "from qiskit_optimization.converters.quadratic_program_to_qubo import QuadraticProgramToQubo\n",
    "from qiskit_optimization.translators import from_docplex_mp"
   ]
  },
  {
   "cell_type": "markdown",
   "id": "regional-weekly",
   "metadata": {},
   "source": [
    "## Preliminaries: relaxing QUBOs\n",
    "\n",
    "First, we show how to relax a QUBO built with a semi-definite positive matrix to obtain an easy-to-solve QP."
   ]
  },
  {
   "cell_type": "code",
   "execution_count": 2,
   "id": "southwest-stake",
   "metadata": {},
   "outputs": [],
   "source": [
    "def create_problem(mu: np.array, sigma: np.array, total: int = 3) -> QuadraticProgram:\n",
    "    \"\"\"Solve the quadratic program using docplex.\"\"\"\n",
    "\n",
    "    mdl = Model()\n",
    "    x = [mdl.binary_var(\"x%s\" % i) for i in range(len(sigma))]\n",
    "\n",
    "    objective = mdl.sum([mu[i] * x[i] for i in range(len(mu))])\n",
    "    objective -= 2 * mdl.sum(\n",
    "        [sigma[i, j] * x[i] * x[j] for i in range(len(mu)) for j in range(len(mu))]\n",
    "    )\n",
    "    mdl.maximize(objective)\n",
    "    cost = mdl.sum(x)\n",
    "    mdl.add_constraint(cost == total)\n",
    "\n",
    "    qp = from_docplex_mp(mdl)\n",
    "    return qp\n",
    "\n",
    "\n",
    "def relax_problem(problem) -> QuadraticProgram:\n",
    "    \"\"\"Change all variables to continuous.\"\"\"\n",
    "    relaxed_problem = copy.deepcopy(problem)\n",
    "    for variable in relaxed_problem.variables:\n",
    "        variable.vartype = VarType.CONTINUOUS\n",
    "\n",
    "    return relaxed_problem"
   ]
  },
  {
   "cell_type": "markdown",
   "id": "medieval-product",
   "metadata": {},
   "source": [
    "For this example, we use a positive semi-definite matrix $\\Sigma$ and a linear term $\\mu$ as defined below."
   ]
  },
  {
   "cell_type": "code",
   "execution_count": 3,
   "id": "laden-number",
   "metadata": {},
   "outputs": [],
   "source": [
    "mu = np.array([3.418, 2.0913, 6.2415, 4.4436, 10.892, 3.4051])\n",
    "sigma = np.array(\n",
    "    [\n",
    "        [1.07978412, 0.00768914, 0.11227606, -0.06842969, -0.01016793, -0.00839765],\n",
    "        [0.00768914, 0.10922887, -0.03043424, -0.0020045, 0.00670929, 0.0147937],\n",
    "        [0.11227606, -0.03043424, 0.985353, 0.02307313, -0.05249785, 0.00904119],\n",
    "        [-0.06842969, -0.0020045, 0.02307313, 0.6043817, 0.03740115, -0.00945322],\n",
    "        [-0.01016793, 0.00670929, -0.05249785, 0.03740115, 0.79839634, 0.07616951],\n",
    "        [-0.00839765, 0.0147937, 0.00904119, -0.00945322, 0.07616951, 1.08464544],\n",
    "    ]\n",
    ")"
   ]
  },
  {
   "cell_type": "markdown",
   "id": "aging-fortune",
   "metadata": {},
   "source": [
    "Using DOCPLEX we build a model with binary variables."
   ]
  },
  {
   "cell_type": "code",
   "execution_count": 4,
   "id": "supreme-wallace",
   "metadata": {},
   "outputs": [
    {
     "name": "stdout",
     "output_type": "stream",
     "text": [
      "Problem name: docplex_model1\n",
      "\n",
      "Maximize\n",
      "  -2.15956824*x0^2 - 0.03075656*x0*x1 - 0.44910424*x0*x2 + 0.27371876*x0*x3\n",
      "  + 0.04067172*x0*x4 + 0.0335906*x0*x5 - 0.21845774*x1^2 + 0.12173696*x1*x2\n",
      "  + 0.008018*x1*x3 - 0.02683716*x1*x4 - 0.0591748*x1*x5 - 1.970706*x2^2\n",
      "  - 0.09229252*x2*x3 + 0.2099914*x2*x4 - 0.03616476*x2*x5 - 1.2087634*x3^2\n",
      "  - 0.1496046*x3*x4 + 0.03781288*x3*x5 - 1.59679268*x4^2 - 0.30467804*x4*x5\n",
      "  - 2.16929088*x5^2 + 3.418*x0 + 2.0913*x1 + 6.2415*x2 + 4.4436*x3 + 10.892*x4\n",
      "  + 3.4051*x5\n",
      "\n",
      "Subject to\n",
      "  Linear constraints (1)\n",
      "    x0 + x1 + x2 + x3 + x4 + x5 == 3  'c0'\n",
      "\n",
      "  Binary variables (6)\n",
      "    x0 x1 x2 x3 x4 x5\n",
      "\n"
     ]
    }
   ],
   "source": [
    "qubo = create_problem(mu, sigma)\n",
    "print(qubo.prettyprint())"
   ]
  },
  {
   "cell_type": "markdown",
   "id": "timely-sally",
   "metadata": {},
   "source": [
    "Such binary problems are hard to deal with but can be solved if the problem instance is small enough. Our example above has as solution"
   ]
  },
  {
   "cell_type": "code",
   "execution_count": 5,
   "id": "contrary-bumper",
   "metadata": {},
   "outputs": [
    {
     "name": "stdout",
     "output_type": "stream",
     "text": [
      "objective function value: 16.7689322\n",
      "variable values: x0=0.0, x1=0.0, x2=1.0, x3=1.0, x4=1.0, x5=0.0\n",
      "status: SUCCESS\n"
     ]
    }
   ],
   "source": [
    "result = CplexOptimizer().solve(qubo)\n",
    "print(result.prettyprint())"
   ]
  },
  {
   "cell_type": "markdown",
   "id": "established-stretch",
   "metadata": {},
   "source": [
    "We can create a relaxation of this problem in which the variables are no longer binary. Note that we use the `QuadraticProgramToQubo` converter to convert the constraint into a quadratic penalty term. We do this to remain consistent with the steps that the Qiskit optimization module applies internally. "
   ]
  },
  {
   "cell_type": "code",
   "execution_count": 6,
   "id": "spectacular-african",
   "metadata": {},
   "outputs": [
    {
     "name": "stdout",
     "output_type": "stream",
     "text": [
      "Problem name: docplex_model1\n",
      "\n",
      "Minimize\n",
      "  44.848800180000005*x0^2 + 85.40922044000001*x0*x1 + 85.82756812000001*x0*x2\n",
      "  + 85.10474512000002*x0*x3 + 85.33779216000002*x0*x4 + 85.34487328000002*x0*x5\n",
      "  + 42.907689680000004*x1^2 + 85.25672692*x1*x2 + 85.37044588*x1*x3\n",
      "  + 85.40530104000001*x1*x4 + 85.43763868000002*x1*x5 + 44.659937940000006*x2^2\n",
      "  + 85.47075640000001*x2*x3 + 85.16847248000002*x2*x4 + 85.41462864000002*x2*x5\n",
      "  + 43.89799534000001*x3^2 + 85.52806848000002*x3*x4 + 85.34065100000001*x3*x5\n",
      "  + 44.286024620000006*x4^2 + 85.68314192000001*x4*x5 + 44.858522820000005*x5^2\n",
      "  - 259.55339164000003*x0 - 258.22669164*x1 - 262.37689164*x2 - 260.57899164*x3\n",
      "  - 267.02739164*x4 - 259.54049164*x5 + 384.20308746000006\n",
      "\n",
      "Subject to\n",
      "  No constraints\n",
      "\n",
      "  Continuous variables (6)\n",
      "    0 <= x0 <= 1\n",
      "    0 <= x1 <= 1\n",
      "    0 <= x2 <= 1\n",
      "    0 <= x3 <= 1\n",
      "    0 <= x4 <= 1\n",
      "    0 <= x5 <= 1\n",
      "\n"
     ]
    }
   ],
   "source": [
    "qp = relax_problem(QuadraticProgramToQubo().convert(qubo))\n",
    "print(qp.prettyprint())"
   ]
  },
  {
   "cell_type": "markdown",
   "id": "absolute-creativity",
   "metadata": {},
   "source": [
    "The solution of this continuous relaxation is different from the solution to the binary problem but can be used to warm-start a solver when dealing with the binary problem."
   ]
  },
  {
   "cell_type": "code",
   "execution_count": 7,
   "id": "moderate-photograph",
   "metadata": {},
   "outputs": [
    {
     "name": "stdout",
     "output_type": "stream",
     "text": [
      "objective function value: -17.012055025682855\n",
      "variable values: x0=0.1752499576180142, x1=1.4803888163988428e-07, x2=0.9709053264087596, x3=0.7384168677494174, x4=0.9999999916475085, x5=0.14438904470168756\n",
      "status: SUCCESS\n"
     ]
    }
   ],
   "source": [
    "sol = CplexOptimizer().solve(qp)\n",
    "print(sol.prettyprint())"
   ]
  },
  {
   "cell_type": "code",
   "execution_count": 8,
   "id": "smoking-discretion",
   "metadata": {},
   "outputs": [
    {
     "name": "stdout",
     "output_type": "stream",
     "text": [
      "[0.1752499576180142, 1.4803888163988428e-07, 0.9709053264087596, 0.7384168677494174, 0.9999999916475085, 0.14438904470168756]\n"
     ]
    }
   ],
   "source": [
    "c_stars = sol.samples[0].x\n",
    "print(c_stars)"
   ]
  },
  {
   "cell_type": "markdown",
   "id": "portuguese-profit",
   "metadata": {},
   "source": [
    "## QAOA\n",
    "\n",
    "Here, we illustrate how to warm-start the quantum approximate optimization algorithm (QAOA) by leveraging the relaxed problem shown above. \n",
    "\n",
    "### Standard QAOA\n",
    "\n",
    "First, we use standard QAOA to solve the QUBO. To do this, we convert the QUBO to Qiskit's QuadraticProgram class (note that the resulting problem is still a binary problem)."
   ]
  },
  {
   "cell_type": "code",
   "execution_count": 9,
   "id": "recreational-packing",
   "metadata": {},
   "outputs": [],
   "source": [
    "algorithm_globals.random_seed = 12345\n",
    "quantum_instance = QuantumInstance(\n",
    "    BasicAer.get_backend(\"statevector_simulator\"),\n",
    "    seed_simulator=algorithm_globals.random_seed,\n",
    "    seed_transpiler=algorithm_globals.random_seed,\n",
    ")\n",
    "qaoa_mes = QAOA(quantum_instance=quantum_instance, initial_point=[0.0, 1.0])\n",
    "exact_mes = NumPyMinimumEigensolver()"
   ]
  },
  {
   "cell_type": "code",
   "execution_count": 10,
   "id": "pursuant-pendant",
   "metadata": {},
   "outputs": [],
   "source": [
    "qaoa = MinimumEigenOptimizer(qaoa_mes)"
   ]
  },
  {
   "cell_type": "code",
   "execution_count": 11,
   "id": "painful-packing",
   "metadata": {},
   "outputs": [
    {
     "name": "stdout",
     "output_type": "stream",
     "text": [
      "objective function value: 16.768932200000002\n",
      "variable values: x0=0.0, x1=0.0, x2=1.0, x3=1.0, x4=1.0, x5=0.0\n",
      "status: SUCCESS\n"
     ]
    }
   ],
   "source": [
    "qaoa_result = qaoa.solve(qubo)\n",
    "print(qaoa_result.prettyprint())"
   ]
  },
  {
   "cell_type": "markdown",
   "id": "arctic-wealth",
   "metadata": {},
   "source": [
    "### Warm-start QAOA\n",
    "\n",
    "Next, we compare this result to a warm-start QAOA in which we use the solution to the continuous relaxation of the problem. First, we create the initial state \n",
    "\n",
    "\\begin{align}\n",
    "|\\phi^*\\rangle=\\bigotimes_{i=0}^{n-1}R_y(\\theta_i)|0\\rangle_n .\n",
    "\\end{align}\n",
    "\n",
    "which is given by applying $R_y$ rotations with an angle $\\theta=2\\arcsin(\\sqrt{c^*_i})$ that depends on the solution to the relaxed problem.\n",
    "Here, $c^*_i$ the value of variable $i$ of the relaxed problem."
   ]
  },
  {
   "cell_type": "code",
   "execution_count": 12,
   "id": "controversial-model",
   "metadata": {},
   "outputs": [
    {
     "data": {
      "image/png": "[encoded data removed]",
      "text/plain": [
       "<Figure size 146.797x385.28 with 1 Axes>"
      ]
     },
     "execution_count": 12,
     "metadata": {},
     "output_type": "execute_result"
    }
   ],
   "source": [
    "from qiskit import QuantumCircuit\n",
    "\n",
    "thetas = [2 * np.arcsin(np.sqrt(c_star)) for c_star in c_stars]\n",
    "\n",
    "init_qc = QuantumCircuit(len(sigma))\n",
    "for idx, theta in enumerate(thetas):\n",
    "    init_qc.ry(theta, idx)\n",
    "\n",
    "init_qc.draw(output=\"mpl\")"
   ]
  },
  {
   "cell_type": "markdown",
   "id": "tropical-armstrong",
   "metadata": {},
   "source": [
    "Next, we create the mixer operator for QAOA. When warm-starting QAOA we must ensure that the mixer operator has the initial state as ground state. We therefore chose the Hamiltonian\n",
    "\n",
    "\\begin{align}\n",
    "H_{M,i}^{(ws)}=\n",
    "\\begin{pmatrix}\n",
    "2c_i^*-1 & -2\\sqrt{c_i^*(1-c_i^*)} \\\\\n",
    "-2\\sqrt{c_i^*(1-c_i^*)} & 1-2c_i^*\n",
    "\\end{pmatrix}\n",
    "\\end{align}\n",
    "\n",
    "as mixer operator for qubit $i$. Once multiplied by $-i\\beta$ and exponentiated this mixer produces the following mixer circuit."
   ]
  },
  {
   "cell_type": "code",
   "execution_count": 13,
   "id": "pacific-destiny",
   "metadata": {},
   "outputs": [
    {
     "data": {
      "image/png": "[encoded data removed]",
      "text/plain": [
       "<Figure size 327.397x385.28 with 1 Axes>"
      ]
     },
     "execution_count": 13,
     "metadata": {},
     "output_type": "execute_result"
    }
   ],
   "source": [
    "from qiskit.circuit import Parameter\n",
    "\n",
    "beta = Parameter(\"β\")\n",
    "\n",
    "ws_mixer = QuantumCircuit(len(sigma))\n",
    "for idx, theta in enumerate(thetas):\n",
    "    ws_mixer.ry(-theta, idx)\n",
    "    ws_mixer.rz(-2 * beta, idx)\n",
    "    ws_mixer.ry(theta, idx)\n",
    "\n",
    "ws_mixer.draw(output=\"mpl\")"
   ]
  },
  {
   "cell_type": "markdown",
   "id": "requested-cooking",
   "metadata": {},
   "source": [
    "The initial state and mixer operator can then be passed to QAOA."
   ]
  },
  {
   "cell_type": "code",
   "execution_count": 14,
   "id": "settled-mistress",
   "metadata": {},
   "outputs": [],
   "source": [
    "ws_qaoa_mes = QAOA(\n",
    "    quantum_instance=quantum_instance,\n",
    "    initial_state=init_qc,\n",
    "    mixer=ws_mixer,\n",
    "    initial_point=[0.0, 1.0],\n",
    ")"
   ]
  },
  {
   "cell_type": "code",
   "execution_count": 15,
   "id": "wrapped-alberta",
   "metadata": {},
   "outputs": [],
   "source": [
    "ws_qaoa = MinimumEigenOptimizer(ws_qaoa_mes)"
   ]
  },
  {
   "cell_type": "code",
   "execution_count": 16,
   "id": "aerial-parcel",
   "metadata": {},
   "outputs": [
    {
     "name": "stdout",
     "output_type": "stream",
     "text": [
      "objective function value: 16.768932200000002\n",
      "variable values: x0=0.0, x1=0.0, x2=1.0, x3=1.0, x4=1.0, x5=0.0\n",
      "status: SUCCESS\n"
     ]
    }
   ],
   "source": [
    "ws_qaoa_result = ws_qaoa.solve(qubo)\n",
    "print(ws_qaoa_result.prettyprint())"
   ]
  },
  {
   "cell_type": "markdown",
   "id": "armed-chinese",
   "metadata": {},
   "source": [
    "### Analysis\n",
    "\n",
    "Both results appear to give the same result. However, when we look at the underlying probability distribution we observe that the warm-start QAOA has a much higher probability of sampling the optimal solution."
   ]
  },
  {
   "cell_type": "code",
   "execution_count": 17,
   "id": "sharp-military",
   "metadata": {},
   "outputs": [
    {
     "data": {
      "text/plain": [
       "['001110: value: 16.769, probability: 0.9%',\n",
       " '011010: value: 15.744, probability: 0.1%',\n",
       " '001011: value: 14.671, probability: 4.1%',\n",
       " '101010: value: 14.626, probability: 2.5%',\n",
       " '010110: value: 14.234, probability: 0.2%',\n",
       " '100110: value: 13.953, probability: 0.2%',\n",
       " '000111: value: 13.349, probability: 0.6%',\n",
       " '110010: value: 12.410, probability: 1.7%',\n",
       " '010011: value: 12.013, probability: 0.0%',\n",
       " '100011: value: 11.559, probability: 5.5%']"
      ]
     },
     "execution_count": 17,
     "metadata": {},
     "output_type": "execute_result"
    }
   ],
   "source": [
    "def format_qaoa_samples(samples, max_len: int = 10):\n",
    "    qaoa_res = []\n",
    "    for s in samples:\n",
    "        if sum(s.x) == 3:\n",
    "            qaoa_res.append((\"\".join([str(int(_)) for _ in s.x]), s.fval, s.probability))\n",
    "\n",
    "    res = sorted(qaoa_res, key=lambda x: -x[1])[0:max_len]\n",
    "\n",
    "    return [(_[0] + f\": value: {_[1]:.3f}, probability: {1e2*_[2]:.1f}%\") for _ in res]\n",
    "\n",
    "\n",
    "format_qaoa_samples(qaoa_result.samples)"
   ]
  },
  {
   "cell_type": "code",
   "execution_count": 18,
   "id": "political-dependence",
   "metadata": {},
   "outputs": [
    {
     "data": {
      "text/plain": [
       "['001110: value: 16.769, probability: 48.4%',\n",
       " '001011: value: 14.671, probability: 3.4%',\n",
       " '101010: value: 14.626, probability: 4.5%',\n",
       " '100110: value: 13.953, probability: 0.6%',\n",
       " '000111: value: 13.349, probability: 0.4%',\n",
       " '100011: value: 11.559, probability: 0.1%']"
      ]
     },
     "execution_count": 18,
     "metadata": {},
     "output_type": "execute_result"
    }
   ],
   "source": [
    "format_qaoa_samples(ws_qaoa_result.samples)"
   ]
  },
  {
   "cell_type": "markdown",
   "id": "animal-grave",
   "metadata": {},
   "source": [
    "## Warm-start QAOA\n",
    "\n",
    "The warm-start features above are available in the Qiskit optimization module as a single optimizer named `WarmStartQAOAOptimizer` which is illustrated below. This solver will solve a QUBO with a warm-start QAOA. It computes $c^*$ by relaxing the problem. This behavior is controlled by setting `relax_for_pre_solver` to `True`."
   ]
  },
  {
   "cell_type": "code",
   "execution_count": 19,
   "id": "random-happiness",
   "metadata": {},
   "outputs": [],
   "source": [
    "from qiskit_optimization.algorithms import WarmStartQAOAOptimizer"
   ]
  },
  {
   "cell_type": "code",
   "execution_count": 20,
   "id": "tracked-encoding",
   "metadata": {},
   "outputs": [],
   "source": [
    "qaoa_mes = QAOA(quantum_instance=quantum_instance, initial_point=[0.0, 1.0])\n",
    "ws_qaoa = WarmStartQAOAOptimizer(\n",
    "    pre_solver=CplexOptimizer(), relax_for_pre_solver=True, qaoa=qaoa_mes, epsilon=0.0\n",
    ")"
   ]
  },
  {
   "cell_type": "code",
   "execution_count": 21,
   "id": "insured-champagne",
   "metadata": {},
   "outputs": [
    {
     "name": "stdout",
     "output_type": "stream",
     "text": [
      "objective function value: 16.768932200000002\n",
      "variable values: x0=0.0, x1=0.0, x2=1.0, x3=1.0, x4=1.0, x5=0.0\n",
      "status: SUCCESS\n"
     ]
    }
   ],
   "source": [
    "ws_result = ws_qaoa.solve(qubo)\n",
    "print(ws_result.prettyprint())"
   ]
  },
  {
   "cell_type": "code",
   "execution_count": 22,
   "id": "grave-initial",
   "metadata": {},
   "outputs": [
    {
     "data": {
      "text/plain": [
       "['001110: value: 16.769, probability: 48.4%',\n",
       " '001011: value: 14.671, probability: 3.4%',\n",
       " '101010: value: 14.626, probability: 4.5%',\n",
       " '100110: value: 13.953, probability: 0.6%',\n",
       " '000111: value: 13.349, probability: 0.4%',\n",
       " '100011: value: 11.559, probability: 0.1%']"
      ]
     },
     "execution_count": 22,
     "metadata": {},
     "output_type": "execute_result"
    }
   ],
   "source": [
    "format_qaoa_samples(ws_result.samples)"
   ]
  },
  {
   "cell_type": "code",
   "execution_count": 23,
   "id": "weird-dispatch",
   "metadata": {},
   "outputs": [
    {
     "data": {
      "text/html": [
       "<h3>Version Information</h3><table><tr><th>Qiskit Software</th><th>Version</th></tr><tr><td><code>qiskit-terra</code></td><td>0.21.0.dev0+dbd3961</td></tr><tr><td><code>qiskit-aer</code></td><td>0.10.4</td></tr><tr><td><code>qiskit-ibmq-provider</code></td><td>0.19.1</td></tr><tr><td><code>qiskit-optimization</code></td><td>0.4.0</td></tr><tr><th>System information</th></tr><tr><td>Python version</td><td>3.10.4</td></tr><tr><td>Python compiler</td><td>GCC 11.2.0</td></tr><tr><td>Python build</td><td>main, Apr  2 2022 09:04:19</td></tr><tr><td>OS</td><td>Linux</td></tr><tr><td>CPUs</td><td>4</td></tr><tr><td>Memory (Gb)</td><td>14.577545166015625</td></tr><tr><td colspan='2'>Wed May 18 16:05:39 2022 JST</td></tr></table>"
      ],
      "text/plain": [
       "<IPython.core.display.HTML object>"
      ]
     },
     "metadata": {},
     "output_type": "display_data"
    },
    {
     "data": {
      "text/html": [
       "<div style='width: 100%; background-color:#d5d9e0;padding-left: 10px; padding-bottom: 10px; padding-right: 10px; padding-top: 5px'><h3>This code is a part of Qiskit</h3><p>&copy; Copyright IBM 2017, 2022.</p><p>This code is licensed under the Apache License, Version 2.0. You may<br>obtain a copy of this license in the LICENSE.txt file in the root directory<br> of this source tree or at http://www.apache.org/licenses/LICENSE-2.0.<p>Any modifications or derivative works of this code must retain this<br>copyright notice, and modified files need to carry a notice indicating<br>that they have been altered from the originals.</p></div>"
      ],
      "text/plain": [
       "<IPython.core.display.HTML object>"
      ]
     },
     "metadata": {},
     "output_type": "display_data"
    }
   ],
   "source": [
    "import qiskit.tools.jupyter\n",
    "\n",
    "%qiskit_version_table\n",
    "%qiskit_copyright"
   ]
  },
  {
   "cell_type": "code",
   "execution_count": null,
   "id": "ordinary-samuel",
   "metadata": {},
   "outputs": [],
   "source": []
  }
 ],
 "metadata": {
  "language_info": {
   "name": "python"
  }
 },
 "nbformat": 4,
 "nbformat_minor": 5
}
