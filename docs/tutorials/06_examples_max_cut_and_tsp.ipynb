{
 "cells": [
  {
   "cell_type": "markdown",
   "metadata": {},
   "source": [
    "# Max-Cut and Traveling Salesman Problem"
   ]
  },
  {
   "cell_type": "markdown",
   "metadata": {},
   "source": [
    "## Introduction\n",
    "\n",
    "Many problems in quantitative fields such as finance and engineering are optimization problems. Optimization problems lie at the core of complex decision-making and definition of strategies. \n",
    "\n",
    "Optimization (or combinatorial optimization) means searching for an optimal solution in a finite or countably infinite set of potential solutions. Optimality is defined with respect to some criterion function, which is to be minimized or maximized. This is typically called cost function or objective function. \n",
    "\n",
    "**Typical optimization problems**\n",
    "\n",
    "Minimization: cost, distance, length of a traversal, weight, processing time, material, energy consumption, number of objects\n",
    "\n",
    "Maximization: profit, value, output, return, yield, utility, efficiency, capacity, number of objects \n",
    "\n",
    "We consider here max-cut problems of practical interest in many fields, and show how they can be mapped on quantum computers manually and how Qiskit's optimization module supports this.\n",
    "\n",
    "\n",
    "### Weighted Max-Cut\n",
    "\n",
    "Max-Cut is an NP-complete problem, with applications in clustering, network science, and statistical physics. To grasp how practical applications are mapped into given Max-Cut instances, consider a system of many people that can interact and influence each other. Individuals can be represented by vertices of a graph, and their interactions seen as pairwise connections between vertices of the graph, or edges. With this representation in mind, it is easy to model typical marketing problems. For example, suppose that it is assumed that individuals will influence each other's buying decisions, and knowledge is given about how strong they will influence each other. The influence can be modeled by weights assigned on each edge of the graph. It is possible then to predict the outcome of a marketing strategy in which products are offered for free to some individuals, and then ask which is the optimal subset of individuals that should get the free products, in order to maximize revenues.\n",
    "\n",
    "The formal definition of this problem is the following:\n",
    "\n",
    "Consider an $n$-node undirected graph *G = (V, E)* where *|V| = n* with edge weights $w_{ij}>0$, $w_{ij}=w_{ji}$, for $(i, j)\\in E$. A cut is defined as a partition of the original set V into two subsets. The cost function to be optimized is in this case the sum of weights of edges connecting points in the two different subsets, *crossing* the cut. By assigning $x_i=0$ or $x_i=1$ to each node $i$, one tries to maximize the global profit function (here and in the following summations run over indices 0,1,...n-1)\n",
    "\n",
    "$$\\tilde{C}(\\textbf{x}) = \\sum_{i,j} w_{ij} x_i (1-x_j).$$\n",
    "\n",
    "In our simple marketing model, $w_{ij}$ represents the probability that the person $j$ will buy a product after $i$ gets a free one. Note that the weights $w_{ij}$ can in principle be greater than $1$ (or even negative), corresponding to the case where the individual $j$ will buy more than one product. Maximizing the total buying probability corresponds to maximizing the total future revenues. In the case where the profit probability will be greater than the cost of the initial free samples, the strategy is a convenient one. An extension to this model has the nodes themselves carry weights, which can be regarded, in our marketing model, as the likelihood that a person granted with a free sample of the product will buy it again in the future. With this additional information in our model, the objective function to maximize becomes \n",
    "\n",
    "$$C(\\textbf{x}) = \\sum_{i,j} w_{ij} x_i (1-x_j)+\\sum_i w_i x_i. $$\n",
    " \n",
    "In order to find a solution to this problem on a quantum computer, one needs first to map it to an Ising Hamiltonian. This can be done with the assignment $x_i\\rightarrow (1-Z_i)/2$, where $Z_i$ is the Pauli Z operator that has eigenvalues $\\pm 1$. Doing this we find that \n",
    "\n",
    "$$C(\\textbf{Z}) = \\sum_{i,j} \\frac{w_{ij}}{4} (1-Z_i)(1+Z_j) + \\sum_i \\frac{w_i}{2} (1-Z_i) = -\\frac{1}{2}\\left( \\sum_{i<j} w_{ij} Z_i Z_j +\\sum_i w_i Z_i\\right)+\\mathrm{const},$$\n",
    "\n",
    "where $\\mathrm{const} = \\sum_{i<j}w_{ij}/2+\\sum_i w_i/2$. In other terms, the weighted Max-Cut problem is equivalent to minimizing the Ising Hamiltonian \n",
    "\n",
    "$$ H = \\sum_i w_i Z_i + \\sum_{i<j} w_{ij} Z_iZ_j.$$\n",
    "\n",
    "Qiskit's optimization module can generate the Ising Hamiltonian for the first profit function $\\tilde{C}$.\n",
    "To this extent, function $\\tilde{C}$ can be modeled as a `QuadraticProgram`, which provides the `to_ising()` method.\n",
    "\n",
    "\n",
    "### Approximate Universal Quantum Computing for Optimization Problems\n",
    "\n",
    "There has been a considerable amount of interest in recent times about the use of quantum computers to find a solution to combinatorial optimization problems. It is important to say that, given the classical nature of combinatorial problems, exponential speedup in using quantum computers compared to the best classical algorithms is not guaranteed. However, due to the nature and importance of the target problems, it is worth investigating heuristic approaches on a quantum computer that could indeed speed up some problem instances. Here we demonstrate an approach that is based on the *Quantum Approximate Optimization Algorithm* (QAOA) by Farhi, Goldstone, and Gutmann (2014). We frame the algorithm in the context of *approximate quantum computing*, given its heuristic nature. \n",
    "\n",
    "The algorithm works as follows:\n",
    "\n",
    "1. Choose the $w_i$ and $w_{ij}$ in the target Ising problem. In principle, even higher powers of Z are allowed.\n",
    "\n",
    "1. Choose the depth of the quantum circuit $m$. Note that the depth can be modified adaptively.\n",
    "\n",
    "1. Choose a set of controls $\\theta$ and make a trial function $|\\psi(\\boldsymbol\\theta)\\rangle$, built using a quantum circuit made of C-Phase gates and single-qubit Y rotations, parameterized by the components of $\\boldsymbol\\theta$. \n",
    "\n",
    "1. Evaluate \n",
    "$$C(\\boldsymbol\\theta) = \\langle\\psi(\\boldsymbol\\theta)~|H|~\\psi(\\boldsymbol\\theta)\\rangle = \\sum_i w_i \\langle\\psi(\\boldsymbol\\theta)~|Z_i|~\\psi(\\boldsymbol\\theta)\\rangle+ \\sum_{i<j} w_{ij} \\langle\\psi(\\boldsymbol\\theta)~|Z_iZ_j|~\\psi(\\boldsymbol\\theta)\\rangle$$ \n",
    "by sampling the outcome of the circuit in the Z-basis and adding the expectation values of the individual Ising terms together. In general, different control points around $\\boldsymbol\\theta$ have to be estimated, depending on the classical optimizer chosen. \n",
    "\n",
    "1. Use a classical optimizer to choose a new set of controls.\n",
    "\n",
    "1. Continue until $C(\\boldsymbol\\theta)$ reaches a minimum, close enough to the solution $\\boldsymbol\\theta^*$.\n",
    "\n",
    "1. Use the last $\\boldsymbol\\theta$ to generate a final set of samples from the distribution $|\\langle z_i~|\\psi(\\boldsymbol\\theta)\\rangle|^2\\;\\forall i$ to obtain the answer.\n",
    "    \n",
    "It is our belief the difficulty of finding good heuristic algorithms will come down to the choice of an appropriate trial wavefunction. For example, one could consider a trial function whose entanglement best aligns with the target problem, or simply make the amount of entanglement a variable. In this tutorial, we will consider a simple trial function of the form\n",
    "\n",
    "$$|\\psi(\\theta)\\rangle  = [U_\\mathrm{single}(\\boldsymbol\\theta) U_\\mathrm{entangler}]^m |+\\rangle$$\n",
    "\n",
    "where $U_\\mathrm{entangler}$ is a collection of C-Phase gates (fully entangling gates), and $U_\\mathrm{single}(\\theta) = \\prod_{i=1}^n Y(\\theta_{i})$, where $n$ is the number of qubits and $m$ is the depth of the quantum circuit. The motivation for this choice is that for these classical problems this choice allows us to search over the space of quantum states that have only real coefficients, still exploiting the entanglement to potentially converge faster to the solution.\n",
    "\n",
    "One advantage of using this sampling method compared to adiabatic approaches is that the target Ising Hamiltonian does not have to be implemented directly on hardware, allowing this algorithm not to be limited to the connectivity of the device. Furthermore, higher-order terms in the cost function, such as $Z_iZ_jZ_k$, can also be sampled efficiently, whereas in adiabatic or annealing approaches they are generally impractical to deal with. \n",
    "\n",
    "\n",
    "References:\n",
    "\n",
    "- \\ A. Lucas, Frontiers in Physics 2, 5 (2014)\n",
    "- \\ E. Farhi, J. Goldstone, S. Gutmann, e-print arXiv 1411.4028 (2014)\n",
    "- \\ D. Wecker, M. B. Hastings, M. Troyer, Phys. Rev. A 94, 022309 (2016)\n",
    "- \\ E. Farhi, J. Goldstone, S. Gutmann, H. Neven, e-print arXiv 1703.06199 (2017)"
   ]
  },
  {
   "cell_type": "markdown",
   "metadata": {},
   "source": [
    "### Application classes\n",
    "\n",
    "We use the application classes for the max-cut problem and the traveling salesman problem in this page. There are application classes for other optimization problems available as well.\n",
    "See [Application Classes for Optimization Problems](09_application_classes.ipynb) for details."
   ]
  },
  {
   "cell_type": "code",
   "execution_count": 1,
   "metadata": {},
   "outputs": [],
   "source": [
    "# useful additional packages\n",
    "import matplotlib.pyplot as plt\n",
    "import matplotlib.axes as axes\n",
    "import numpy as np\n",
    "import networkx as nx\n",
    "\n",
    "from qiskit import Aer\n",
    "from qiskit.tools.visualization import plot_histogram\n",
    "from qiskit.circuit.library import TwoLocal\n",
    "from qiskit_optimization.applications import Maxcut, Tsp\n",
    "from qiskit.algorithms import VQE, NumPyMinimumEigensolver\n",
    "from qiskit.algorithms.optimizers import SPSA\n",
    "from qiskit.utils import algorithm_globals, QuantumInstance\n",
    "from qiskit_optimization.algorithms import MinimumEigenOptimizer\n",
    "from qiskit_optimization.problems import QuadraticProgram"
   ]
  },
  {
   "cell_type": "markdown",
   "metadata": {},
   "source": [
    "## Max-Cut problem"
   ]
  },
  {
   "cell_type": "code",
   "execution_count": 2,
   "metadata": {},
   "outputs": [
    {
     "data": {
      "image/png": "[encoded data removed]",
      "text/plain": [
       "<Figure size 432x288 with 1 Axes>"
      ]
     },
     "metadata": {},
     "output_type": "display_data"
    }
   ],
   "source": [
    "# Generating a graph of 4 nodes\n",
    "\n",
    "n = 4  # Number of nodes in graph\n",
    "G = nx.Graph()\n",
    "G.add_nodes_from(np.arange(0, n, 1))\n",
    "elist = [(0, 1, 1.0), (0, 2, 1.0), (0, 3, 1.0), (1, 2, 1.0), (2, 3, 1.0)]\n",
    "# tuple is (i,j,weight) where (i,j) is the edge\n",
    "G.add_weighted_edges_from(elist)\n",
    "\n",
    "colors = [\"r\" for node in G.nodes()]\n",
    "pos = nx.spring_layout(G)\n",
    "\n",
    "\n",
    "def draw_graph(G, colors, pos):\n",
    "    default_axes = plt.axes(frameon=True)\n",
    "    nx.draw_networkx(G, node_color=colors, node_size=600, alpha=0.8, ax=default_axes, pos=pos)\n",
    "    edge_labels = nx.get_edge_attributes(G, \"weight\")\n",
    "    nx.draw_networkx_edge_labels(G, pos=pos, edge_labels=edge_labels)\n",
    "\n",
    "\n",
    "draw_graph(G, colors, pos)"
   ]
  },
  {
   "cell_type": "code",
   "execution_count": 3,
   "metadata": {},
   "outputs": [
    {
     "name": "stdout",
     "output_type": "stream",
     "text": [
      "[[0. 1. 1. 1.]\n",
      " [1. 0. 1. 0.]\n",
      " [1. 1. 0. 1.]\n",
      " [1. 0. 1. 0.]]\n"
     ]
    }
   ],
   "source": [
    "# Computing the weight matrix from the random graph\n",
    "w = np.zeros([n, n])\n",
    "for i in range(n):\n",
    "    for j in range(n):\n",
    "        temp = G.get_edge_data(i, j, default=0)\n",
    "        if temp != 0:\n",
    "            w[i, j] = temp[\"weight\"]\n",
    "print(w)"
   ]
  },
  {
   "cell_type": "markdown",
   "metadata": {},
   "source": [
    "### Brute force approach\n",
    "\n",
    "Try all possible $2^n$ combinations. For $n = 4$, as in this example, one deals with only 16 combinations, but for n = 1000, one has 1.071509e+30 combinations, which is impractical to deal with by using a brute force approach. "
   ]
  },
  {
   "cell_type": "code",
   "execution_count": 4,
   "metadata": {},
   "outputs": [
    {
     "name": "stdout",
     "output_type": "stream",
     "text": [
      "case = [0, 0, 0, 0] cost = 0.0\n",
      "case = [1, 0, 0, 0] cost = 3.0\n",
      "case = [0, 1, 0, 0] cost = 2.0\n",
      "case = [1, 1, 0, 0] cost = 3.0\n",
      "case = [0, 0, 1, 0] cost = 3.0\n",
      "case = [1, 0, 1, 0] cost = 4.0\n",
      "case = [0, 1, 1, 0] cost = 3.0\n",
      "case = [1, 1, 1, 0] cost = 2.0\n",
      "case = [0, 0, 0, 1] cost = 2.0\n",
      "case = [1, 0, 0, 1] cost = 3.0\n",
      "case = [0, 1, 0, 1] cost = 4.0\n",
      "case = [1, 1, 0, 1] cost = 3.0\n",
      "case = [0, 0, 1, 1] cost = 3.0\n",
      "case = [1, 0, 1, 1] cost = 2.0\n",
      "case = [0, 1, 1, 1] cost = 3.0\n",
      "case = [1, 1, 1, 1] cost = 0.0\n",
      "\n",
      "Best solution = [1, 0, 1, 0] cost = 4.0\n"
     ]
    },
    {
     "data": {
      "image/png": "[encoded data removed]",
      "text/plain": [
       "<Figure size 432x288 with 1 Axes>"
      ]
     },
     "metadata": {},
     "output_type": "display_data"
    }
   ],
   "source": [
    "best_cost_brute = 0\n",
    "for b in range(2**n):\n",
    "    x = [int(t) for t in reversed(list(bin(b)[2:].zfill(n)))]\n",
    "    cost = 0\n",
    "    for i in range(n):\n",
    "        for j in range(n):\n",
    "            cost = cost + w[i, j] * x[i] * (1 - x[j])\n",
    "    if best_cost_brute < cost:\n",
    "        best_cost_brute = cost\n",
    "        xbest_brute = x\n",
    "    print(\"case = \" + str(x) + \" cost = \" + str(cost))\n",
    "\n",
    "colors = [\"r\" if xbest_brute[i] == 0 else \"c\" for i in range(n)]\n",
    "draw_graph(G, colors, pos)\n",
    "print(\"\\nBest solution = \" + str(xbest_brute) + \" cost = \" + str(best_cost_brute))"
   ]
  },
  {
   "cell_type": "markdown",
   "metadata": {},
   "source": [
    "### Mapping to the Ising problem"
   ]
  },
  {
   "cell_type": "markdown",
   "metadata": {},
   "source": [
    "Qiskit provides functionality to generate `QuadraticProgram` from the problem specification as well as create the corresponding Ising Hamiltonian.\n"
   ]
  },
  {
   "cell_type": "code",
   "execution_count": 5,
   "metadata": {},
   "outputs": [
    {
     "name": "stdout",
     "output_type": "stream",
     "text": [
      "Problem name: Max-cut\n",
      "\n",
      "Maximize\n",
      "  -2*x_0*x_1 - 2*x_0*x_2 - 2*x_0*x_3 - 2*x_1*x_2 - 2*x_2*x_3 + 3*x_0 + 2*x_1 + 3*x_2 + 2*x_3\n",
      "\n",
      "Subject to\n",
      "  No constraints\n",
      "\n",
      "  Binary variables (4)\n",
      "    x_0 x_1 x_2 x_3\n",
      "\n"
     ]
    }
   ],
   "source": [
    "max_cut = Maxcut(w)\n",
    "qp = max_cut.to_quadratic_program()\n",
    "print(qp.prettyprint())"
   ]
  },
  {
   "cell_type": "code",
   "execution_count": 6,
   "metadata": {},
   "outputs": [
    {
     "name": "stdout",
     "output_type": "stream",
     "text": [
      "Offset: -2.5\n",
      "Ising Hamiltonian:\n",
      "0.5 * IIZZ\n",
      "+ 0.5 * IZIZ\n",
      "+ 0.5 * IZZI\n",
      "+ 0.5 * ZIIZ\n",
      "+ 0.5 * ZZII\n"
     ]
    }
   ],
   "source": [
    "qubitOp, offset = qp.to_ising()\n",
    "print(\"Offset:\", offset)\n",
    "print(\"Ising Hamiltonian:\")\n",
    "print(str(qubitOp))"
   ]
  },
  {
   "cell_type": "code",
   "execution_count": 7,
   "metadata": {},
   "outputs": [
    {
     "name": "stdout",
     "output_type": "stream",
     "text": [
      "objective function value: 4.0\n",
      "variable values: x_0=1.0, x_1=0.0, x_2=1.0, x_3=0.0\n",
      "status: SUCCESS\n"
     ]
    }
   ],
   "source": [
    "# solving Quadratic Program using exact classical eigensolver\n",
    "exact = MinimumEigenOptimizer(NumPyMinimumEigensolver())\n",
    "result = exact.solve(qp)\n",
    "print(result.prettyprint())"
   ]
  },
  {
   "cell_type": "markdown",
   "metadata": {},
   "source": [
    "Since the problem was cast to a minimization problem, the solution of $-4$ corresponds to the optimum."
   ]
  },
  {
   "cell_type": "markdown",
   "metadata": {},
   "source": [
    "### Checking that the full Hamiltonian gives the right cost "
   ]
  },
  {
   "cell_type": "code",
   "execution_count": 8,
   "metadata": {},
   "outputs": [
    {
     "name": "stdout",
     "output_type": "stream",
     "text": [
      "energy: -1.5\n",
      "max-cut objective: -4.0\n",
      "solution: [1 0 1 0]\n",
      "solution objective: 4.0\n"
     ]
    },
    {
     "data": {
      "image/png": "[encoded data removed]",
      "text/plain": [
       "<Figure size 432x288 with 1 Axes>"
      ]
     },
     "metadata": {},
     "output_type": "display_data"
    }
   ],
   "source": [
    "# Making the Hamiltonian in its full form and getting the lowest eigenvalue and eigenvector\n",
    "ee = NumPyMinimumEigensolver()\n",
    "result = ee.compute_minimum_eigenvalue(qubitOp)\n",
    "\n",
    "x = max_cut.sample_most_likely(result.eigenstate)\n",
    "print(\"energy:\", result.eigenvalue.real)\n",
    "print(\"max-cut objective:\", result.eigenvalue.real + offset)\n",
    "print(\"solution:\", x)\n",
    "print(\"solution objective:\", qp.objective.evaluate(x))\n",
    "\n",
    "colors = [\"r\" if x[i] == 0 else \"c\" for i in range(n)]\n",
    "draw_graph(G, colors, pos)"
   ]
  },
  {
   "cell_type": "markdown",
   "metadata": {},
   "source": [
    "### Running it on quantum computer\n",
    "We run the optimization routine using a feedback loop with a quantum computer that uses trial functions built with Y single-qubit rotations, $U_\\mathrm{single}(\\theta) = \\prod_{i=1}^n Y(\\theta_{i})$, and entangler steps $U_\\mathrm{entangler}$."
   ]
  },
  {
   "cell_type": "code",
   "execution_count": 9,
   "metadata": {},
   "outputs": [],
   "source": [
    "algorithm_globals.random_seed = 123\n",
    "seed = 10598\n",
    "backend = Aer.get_backend(\"aer_simulator_statevector\")\n",
    "quantum_instance = QuantumInstance(backend, seed_simulator=seed, seed_transpiler=seed)"
   ]
  },
  {
   "cell_type": "code",
   "execution_count": 10,
   "metadata": {},
   "outputs": [
    {
     "name": "stdout",
     "output_type": "stream",
     "text": [
      "energy: -1.49968614555873\n",
      "time: 1.9706470966339111\n",
      "max-cut objective: -3.99968614555873\n",
      "solution: [0. 1. 0. 1.]\n",
      "solution objective: 4.0\n"
     ]
    },
    {
     "data": {
      "image/png": "[encoded data removed]",
      "text/plain": [
       "<Figure size 432x288 with 1 Axes>"
      ]
     },
     "metadata": {},
     "output_type": "display_data"
    }
   ],
   "source": [
    "# construct VQE\n",
    "spsa = SPSA(maxiter=300)\n",
    "ry = TwoLocal(qubitOp.num_qubits, \"ry\", \"cz\", reps=5, entanglement=\"linear\")\n",
    "vqe = VQE(ry, optimizer=spsa, quantum_instance=quantum_instance)\n",
    "\n",
    "# run VQE\n",
    "result = vqe.compute_minimum_eigenvalue(qubitOp)\n",
    "\n",
    "# print results\n",
    "x = max_cut.sample_most_likely(result.eigenstate)\n",
    "print(\"energy:\", result.eigenvalue.real)\n",
    "print(\"time:\", result.optimizer_time)\n",
    "print(\"max-cut objective:\", result.eigenvalue.real + offset)\n",
    "print(\"solution:\", x)\n",
    "print(\"solution objective:\", qp.objective.evaluate(x))\n",
    "\n",
    "# plot results\n",
    "colors = [\"r\" if x[i] == 0 else \"c\" for i in range(n)]\n",
    "draw_graph(G, colors, pos)"
   ]
  },
  {
   "cell_type": "code",
   "execution_count": 11,
   "metadata": {},
   "outputs": [
    {
     "name": "stdout",
     "output_type": "stream",
     "text": [
      "objective function value: 4.0\n",
      "variable values: x_0=1.0, x_1=0.0, x_2=1.0, x_3=0.0\n",
      "status: SUCCESS\n"
     ]
    },
    {
     "data": {
      "image/png": "[encoded data removed]",
      "text/plain": [
       "<Figure size 432x288 with 1 Axes>"
      ]
     },
     "metadata": {},
     "output_type": "display_data"
    }
   ],
   "source": [
    "# create minimum eigen optimizer based on VQE\n",
    "vqe_optimizer = MinimumEigenOptimizer(vqe)\n",
    "\n",
    "# solve quadratic program\n",
    "result = vqe_optimizer.solve(qp)\n",
    "print(result.prettyprint())\n",
    "\n",
    "colors = [\"r\" if result.x[i] == 0 else \"c\" for i in range(n)]\n",
    "draw_graph(G, colors, pos)"
   ]
  },
  {
   "cell_type": "markdown",
   "metadata": {},
   "source": [
    "## Traveling Salesman Problem\n",
    "\n",
    "In addition to being a notorious NP-complete problem that has drawn the attention of computer scientists and mathematicians for over two centuries, the Traveling Salesman Problem (TSP) has important bearings on finance and marketing, as its name suggests. Colloquially speaking, the traveling salesman is a person that goes from city to city to sell merchandise. The objective in this case is to find the shortest path that would enable the salesman to visit all the cities and return to its hometown, i.e. the city where he started traveling. By doing this, the salesman gets to maximize potential sales in the least amount of time. \n",
    "\n",
    "The problem derives its importance from its \"hardness\" and ubiquitous equivalence to other relevant combinatorial optimization problems that arise in practice.\n",
    " \n",
    "The mathematical formulation with some early analysis was proposed by W.R. Hamilton in the early 19th century. Mathematically the problem is, as in the case of Max-Cut, best abstracted in terms of graphs. The TSP on the nodes of a graph asks for the shortest *Hamiltonian cycle* that can be taken through each of the nodes. A Hamilton cycle is a closed path that uses every vertex of a graph once. The general solution is unknown and an algorithm that finds it efficiently (e.g., in polynomial time) is not expected to exist.\n",
    "\n",
    "Find the shortest Hamiltonian cycle in a graph $G=(V,E)$ with $n=|V|$ nodes and distances, $w_{ij}$ (distance from vertex $i$ to vertex $j$). A Hamiltonian cycle is described by $N^2$ variables $x_{i,p}$, where $i$ represents the node and $p$ represents its order in a prospective cycle. The decision variable takes the value 1 if the solution occurs at node $i$ at time order $p$. We require that every node can only appear once in the cycle, and for each time a node has to occur. This amounts to the two constraints (here and in the following, whenever not specified, the summands run over 0,1,...N-1)\n",
    "\n",
    "$$\\sum_{i} x_{i,p} = 1 ~~\\forall p$$\n",
    "$$\\sum_{p} x_{i,p} = 1 ~~\\forall i.$$\n",
    "\n",
    "For nodes in our prospective ordering, if $x_{i,p}$ and $x_{j,p+1}$ are both 1, then there should be an energy penalty if $(i,j) \\notin E$ (not connected in the graph). The form of this penalty is \n",
    "\n",
    "$$\\sum_{i,j\\notin E}\\sum_{p} x_{i,p}x_{j,p+1}>0,$$ \n",
    "\n",
    "where it is assumed the boundary condition of the Hamiltonian cycles $(p=N)\\equiv (p=0)$. However, here it will be assumed a fully connected graph and not include this term. The distance that needs to be minimized is \n",
    "\n",
    "$$C(\\textbf{x})=\\sum_{i,j}w_{ij}\\sum_{p} x_{i,p}x_{j,p+1}.$$\n",
    "\n",
    "Putting this all together in a single objective function to be minimized, we get the following:\n",
    "\n",
    "$$C(\\textbf{x})=\\sum_{i,j}w_{ij}\\sum_{p} x_{i,p}x_{j,p+1}+ A\\sum_p\\left(1- \\sum_i x_{i,p}\\right)^2+A\\sum_i\\left(1- \\sum_p x_{i,p}\\right)^2,$$\n",
    "\n",
    "where $A$ is a free parameter. One needs to ensure that $A$ is large enough so that these constraints are respected. One way to do this is to choose $A$ such that $A > \\mathrm{max}(w_{ij})$.\n",
    "\n",
    "Once again, it is easy to map the problem in this form to a quantum computer, and the solution will be found by minimizing a Ising Hamiltonian. "
   ]
  },
  {
   "cell_type": "code",
   "execution_count": 12,
   "metadata": {},
   "outputs": [
    {
     "name": "stdout",
     "output_type": "stream",
     "text": [
      "distance\n",
      " [[ 0. 48. 91.]\n",
      " [48.  0. 63.]\n",
      " [91. 63.  0.]]\n"
     ]
    },
    {
     "data": {
      "image/png": "[encoded data removed]",
      "text/plain": [
       "<Figure size 432x288 with 1 Axes>"
      ]
     },
     "metadata": {},
     "output_type": "display_data"
    }
   ],
   "source": [
    "# Generating a graph of 3 nodes\n",
    "n = 3\n",
    "num_qubits = n**2\n",
    "tsp = Tsp.create_random_instance(n, seed=123)\n",
    "adj_matrix = nx.to_numpy_matrix(tsp.graph)\n",
    "print(\"distance\\n\", adj_matrix)\n",
    "\n",
    "colors = [\"r\" for node in tsp.graph.nodes]\n",
    "pos = [tsp.graph.nodes[node][\"pos\"] for node in tsp.graph.nodes]\n",
    "draw_graph(tsp.graph, colors, pos)"
   ]
  },
  {
   "cell_type": "markdown",
   "metadata": {},
   "source": [
    "### Brute force approach"
   ]
  },
  {
   "cell_type": "code",
   "execution_count": 13,
   "metadata": {},
   "outputs": [
    {
     "name": "stdout",
     "output_type": "stream",
     "text": [
      "order = (0, 1, 2) Distance = 202.0\n",
      "Best order from brute force = (0, 1, 2) with total distance = 202.0\n"
     ]
    },
    {
     "data": {
      "image/png": "[encoded data removed]",
      "text/plain": [
       "<Figure size 432x288 with 1 Axes>"
      ]
     },
     "metadata": {},
     "output_type": "display_data"
    }
   ],
   "source": [
    "from itertools import permutations\n",
    "\n",
    "\n",
    "def brute_force_tsp(w, N):\n",
    "    a = list(permutations(range(1, N)))\n",
    "    last_best_distance = 1e10\n",
    "    for i in a:\n",
    "        distance = 0\n",
    "        pre_j = 0\n",
    "        for j in i:\n",
    "            distance = distance + w[j, pre_j]\n",
    "            pre_j = j\n",
    "        distance = distance + w[pre_j, 0]\n",
    "        order = (0,) + i\n",
    "        if distance < last_best_distance:\n",
    "            best_order = order\n",
    "            last_best_distance = distance\n",
    "            print(\"order = \" + str(order) + \" Distance = \" + str(distance))\n",
    "    return last_best_distance, best_order\n",
    "\n",
    "\n",
    "best_distance, best_order = brute_force_tsp(adj_matrix, n)\n",
    "print(\n",
    "    \"Best order from brute force = \"\n",
    "    + str(best_order)\n",
    "    + \" with total distance = \"\n",
    "    + str(best_distance)\n",
    ")\n",
    "\n",
    "\n",
    "def draw_tsp_solution(G, order, colors, pos):\n",
    "    G2 = nx.DiGraph()\n",
    "    G2.add_nodes_from(G)\n",
    "    n = len(order)\n",
    "    for i in range(n):\n",
    "        j = (i + 1) % n\n",
    "        G2.add_edge(order[i], order[j], weight=G[order[i]][order[j]][\"weight\"])\n",
    "    default_axes = plt.axes(frameon=True)\n",
    "    nx.draw_networkx(\n",
    "        G2, node_color=colors, edge_color=\"b\", node_size=600, alpha=0.8, ax=default_axes, pos=pos\n",
    "    )\n",
    "    edge_labels = nx.get_edge_attributes(G2, \"weight\")\n",
    "    nx.draw_networkx_edge_labels(G2, pos, font_color=\"b\", edge_labels=edge_labels)\n",
    "\n",
    "\n",
    "draw_tsp_solution(tsp.graph, best_order, colors, pos)"
   ]
  },
  {
   "cell_type": "markdown",
   "metadata": {},
   "source": [
    "### Mapping to the Ising problem"
   ]
  },
  {
   "cell_type": "code",
   "execution_count": 14,
   "metadata": {},
   "outputs": [
    {
     "name": "stdout",
     "output_type": "stream",
     "text": [
      "Problem name: TSP\n",
      "\n",
      "Minimize\n",
      "  48*x_0_0*x_1_1 + 48*x_0_0*x_1_2 + 91*x_0_0*x_2_1 + 91*x_0_0*x_2_2 + 48*x_0_1*x_1_0 + 48*x_0_1*x_1_2 + 91*x_0_1*x_2_0 + 91*x_0_1*x_2_2 + 48*x_0_2*x_1_0 + 48*x_0_2*x_1_1 + 91*x_0_2*x_2_0 + 91*x_0_2*x_2_1 + 63*x_1_0*x_2_1 + 63*x_1_0*x_2_2 + 63*x_1_1*x_2_0 + 63*x_1_1*x_2_2 + 63*x_1_2*x_2_0 + 63*x_1_2*x_2_1\n",
      "\n",
      "Subject to\n",
      "  Linear constraints (6)\n",
      "    x_0_0 + x_0_1 + x_0_2 == 1  'c0'\n",
      "    x_1_0 + x_1_1 + x_1_2 == 1  'c1'\n",
      "    x_2_0 + x_2_1 + x_2_2 == 1  'c2'\n",
      "    x_0_0 + x_1_0 + x_2_0 == 1  'c3'\n",
      "    x_0_1 + x_1_1 + x_2_1 == 1  'c4'\n",
      "    x_0_2 + x_1_2 + x_2_2 == 1  'c5'\n",
      "\n",
      "  Binary variables (9)\n",
      "    x_0_0 x_0_1 x_0_2 x_1_0 x_1_1 x_1_2 x_2_0 x_2_1 x_2_2\n",
      "\n"
     ]
    }
   ],
   "source": [
    "qp = tsp.to_quadratic_program()\n",
    "print(qp.prettyprint())"
   ]
  },
  {
   "cell_type": "code",
   "execution_count": 15,
   "metadata": {},
   "outputs": [
    {
     "name": "stdout",
     "output_type": "stream",
     "text": [
      "Offset: 7581.0\n",
      "Ising Hamiltonian:\n",
      "-1282.5 * IIIIIIIIZ\n",
      "- 1282.5 * IIIIIIIZI\n",
      "- 1282.5 * IIIIIIZII\n",
      "- 1268.5 * IIIIIZIII\n",
      "- 1268.5 * IIIIZIIII\n",
      "- 1268.5 * IIIZIIIII\n",
      "- 1290.0 * IIZIIIIII\n",
      "- 1290.0 * IZIIIIIII\n",
      "- 1290.0 * ZIIIIIIII\n",
      "+ 606.5 * IIIIIIIZZ\n",
      "+ 606.5 * IIIIIIZIZ\n",
      "+ 606.5 * IIIIIIZZI\n",
      "+ 606.5 * IIIIIZIIZ\n",
      "+ 12.0 * IIIIIZIZI\n",
      "+ 12.0 * IIIIIZZII\n",
      "+ 12.0 * IIIIZIIIZ\n",
      "+ 606.5 * IIIIZIIZI\n",
      "+ 12.0 * IIIIZIZII\n",
      "+ 606.5 * IIIIZZIII\n",
      "+ 12.0 * IIIZIIIIZ\n",
      "+ 12.0 * IIIZIIIZI\n",
      "+ 606.5 * IIIZIIZII\n",
      "+ 606.5 * IIIZIZIII\n",
      "+ 606.5 * IIIZZIIII\n",
      "+ 606.5 * IIZIIIIIZ\n",
      "+ 22.75 * IIZIIIIZI\n",
      "+ 22.75 * IIZIIIZII\n",
      "+ 606.5 * IIZIIZIII\n",
      "+ 15.75 * IIZIZIIII\n",
      "+ 15.75 * IIZZIIIII\n",
      "+ 22.75 * IZIIIIIIZ\n",
      "+ 606.5 * IZIIIIIZI\n",
      "+ 22.75 * IZIIIIZII\n",
      "+ 15.75 * IZIIIZIII\n",
      "+ 606.5 * IZIIZIIII\n",
      "+ 15.75 * IZIZIIIII\n",
      "+ 606.5 * IZZIIIIII\n",
      "+ 22.75 * ZIIIIIIIZ\n",
      "+ 22.75 * ZIIIIIIZI\n",
      "+ 606.5 * ZIIIIIZII\n",
      "+ 15.75 * ZIIIIZIII\n",
      "+ 15.75 * ZIIIZIIII\n",
      "+ 606.5 * ZIIZIIIII\n",
      "+ 606.5 * ZIZIIIIII\n",
      "+ 606.5 * ZZIIIIIII\n"
     ]
    }
   ],
   "source": [
    "from qiskit_optimization.converters import QuadraticProgramToQubo\n",
    "\n",
    "qp2qubo = QuadraticProgramToQubo()\n",
    "qubo = qp2qubo.convert(qp)\n",
    "qubitOp, offset = qubo.to_ising()\n",
    "print(\"Offset:\", offset)\n",
    "print(\"Ising Hamiltonian:\")\n",
    "print(str(qubitOp))"
   ]
  },
  {
   "cell_type": "code",
   "execution_count": 16,
   "metadata": {},
   "outputs": [
    {
     "name": "stdout",
     "output_type": "stream",
     "text": [
      "objective function value: 202.0\n",
      "variable values: x_0_0=1.0, x_0_1=0.0, x_0_2=0.0, x_1_0=0.0, x_1_1=1.0, x_1_2=0.0, x_2_0=0.0, x_2_1=0.0, x_2_2=1.0\n",
      "status: SUCCESS\n"
     ]
    }
   ],
   "source": [
    "result = exact.solve(qubo)\n",
    "print(result.prettyprint())"
   ]
  },
  {
   "cell_type": "markdown",
   "metadata": {},
   "source": [
    "### Checking that the full Hamiltonian gives the right cost "
   ]
  },
  {
   "cell_type": "code",
   "execution_count": 17,
   "metadata": {},
   "outputs": [
    {
     "name": "stdout",
     "output_type": "stream",
     "text": [
      "energy: -7379.0\n",
      "tsp objective: 202.0\n",
      "feasible: True\n",
      "solution: [0, 1, 2]\n",
      "solution objective: 202.0\n"
     ]
    },
    {
     "data": {
      "image/png": "[encoded data removed]",
      "text/plain": [
       "<Figure size 432x288 with 1 Axes>"
      ]
     },
     "metadata": {},
     "output_type": "display_data"
    }
   ],
   "source": [
    "# Making the Hamiltonian in its full form and getting the lowest eigenvalue and eigenvector\n",
    "ee = NumPyMinimumEigensolver()\n",
    "result = ee.compute_minimum_eigenvalue(qubitOp)\n",
    "\n",
    "print(\"energy:\", result.eigenvalue.real)\n",
    "print(\"tsp objective:\", result.eigenvalue.real + offset)\n",
    "x = tsp.sample_most_likely(result.eigenstate)\n",
    "print(\"feasible:\", qubo.is_feasible(x))\n",
    "z = tsp.interpret(x)\n",
    "print(\"solution:\", z)\n",
    "print(\"solution objective:\", tsp.tsp_value(z, adj_matrix))\n",
    "draw_tsp_solution(tsp.graph, z, colors, pos)"
   ]
  },
  {
   "cell_type": "markdown",
   "metadata": {},
   "source": [
    "### Running it on quantum computer\n",
    "We run the optimization routine using a feedback loop with a quantum computer that uses trial functions built with Y single-qubit rotations, $U_\\mathrm{single}(\\theta) = \\prod_{i=1}^n Y(\\theta_{i})$, and entangler steps $U_\\mathrm{entangler}$."
   ]
  },
  {
   "cell_type": "code",
   "execution_count": 18,
   "metadata": {},
   "outputs": [],
   "source": [
    "algorithm_globals.random_seed = 123\n",
    "seed = 10598\n",
    "backend = Aer.get_backend(\"aer_simulator_statevector\")\n",
    "quantum_instance = QuantumInstance(backend, seed_simulator=seed, seed_transpiler=seed)"
   ]
  },
  {
   "cell_type": "code",
   "execution_count": 19,
   "metadata": {},
   "outputs": [
    {
     "name": "stdout",
     "output_type": "stream",
     "text": [
      "energy: -7326.024699521837\n",
      "time: 3.7483956813812256\n",
      "feasible: True\n",
      "solution: [1, 2, 0]\n",
      "solution objective: 202.0\n"
     ]
    },
    {
     "data": {
      "image/png": "[encoded data removed]",
      "text/plain": [
       "<Figure size 432x288 with 1 Axes>"
      ]
     },
     "metadata": {},
     "output_type": "display_data"
    }
   ],
   "source": [
    "spsa = SPSA(maxiter=300)\n",
    "ry = TwoLocal(qubitOp.num_qubits, \"ry\", \"cz\", reps=5, entanglement=\"linear\")\n",
    "vqe = VQE(ry, optimizer=spsa, quantum_instance=quantum_instance)\n",
    "\n",
    "result = vqe.compute_minimum_eigenvalue(qubitOp)\n",
    "\n",
    "print(\"energy:\", result.eigenvalue.real)\n",
    "print(\"time:\", result.optimizer_time)\n",
    "x = tsp.sample_most_likely(result.eigenstate)\n",
    "print(\"feasible:\", qubo.is_feasible(x))\n",
    "z = tsp.interpret(x)\n",
    "print(\"solution:\", z)\n",
    "print(\"solution objective:\", tsp.tsp_value(z, adj_matrix))\n",
    "draw_tsp_solution(tsp.graph, z, colors, pos)"
   ]
  },
  {
   "cell_type": "code",
   "execution_count": 20,
   "metadata": {},
   "outputs": [],
   "source": [
    "algorithm_globals.random_seed = 123\n",
    "seed = 10598\n",
    "backend = Aer.get_backend(\"aer_simulator_statevector\")\n",
    "quantum_instance = QuantumInstance(backend, seed_simulator=seed, seed_transpiler=seed)"
   ]
  },
  {
   "cell_type": "code",
   "execution_count": 21,
   "metadata": {},
   "outputs": [
    {
     "name": "stdout",
     "output_type": "stream",
     "text": [
      "objective function value: 202.0\n",
      "variable values: x_0_0=0.0, x_0_1=0.0, x_0_2=1.0, x_1_0=1.0, x_1_1=0.0, x_1_2=0.0, x_2_0=0.0, x_2_1=1.0, x_2_2=0.0\n",
      "status: SUCCESS\n",
      "solution: [1, 2, 0]\n",
      "solution objective: 202.0\n"
     ]
    },
    {
     "data": {
      "image/png": "[encoded data removed]",
      "text/plain": [
       "<Figure size 432x288 with 1 Axes>"
      ]
     },
     "metadata": {},
     "output_type": "display_data"
    }
   ],
   "source": [
    "# create minimum eigen optimizer based on VQE\n",
    "import warnings\n",
    "\n",
    "warnings.filterwarnings(\"ignore\", category=UserWarning)\n",
    "vqe_optimizer = MinimumEigenOptimizer(vqe)\n",
    "\n",
    "# solve quadratic program\n",
    "result = vqe_optimizer.solve(qp)\n",
    "print(result.prettyprint())\n",
    "\n",
    "z = tsp.interpret(x)\n",
    "print(\"solution:\", z)\n",
    "print(\"solution objective:\", tsp.tsp_value(z, adj_matrix))\n",
    "draw_tsp_solution(tsp.graph, z, colors, pos)"
   ]
  },
  {
   "cell_type": "code",
   "execution_count": 22,
   "metadata": {},
   "outputs": [
    {
     "data": {
      "text/html": [
       "<h3>Version Information</h3><table><tr><th>Qiskit Software</th><th>Version</th></tr><tr><td><code>qiskit-terra</code></td><td>0.21.0.dev0+cffbb84</td></tr><tr><td><code>qiskit-aer</code></td><td>0.10.4</td></tr><tr><td><code>qiskit-ibmq-provider</code></td><td>0.19.1</td></tr><tr><td><code>qiskit-optimization</code></td><td>0.4.0</td></tr><tr><th>System information</th></tr><tr><td>Python version</td><td>3.10.4</td></tr><tr><td>Python compiler</td><td>GCC 11.2.0</td></tr><tr><td>Python build</td><td>main, Apr  2 2022 09:04:19</td></tr><tr><td>OS</td><td>Linux</td></tr><tr><td>CPUs</td><td>4</td></tr><tr><td>Memory (Gb)</td><td>14.577533721923828</td></tr><tr><td colspan='2'>Fri May 06 18:54:34 2022 JST</td></tr></table>"
      ],
      "text/plain": [
       "<IPython.core.display.HTML object>"
      ]
     },
     "metadata": {},
     "output_type": "display_data"
    },
    {
     "data": {
      "text/html": [
       "<div style='width: 100%; background-color:#d5d9e0;padding-left: 10px; padding-bottom: 10px; padding-right: 10px; padding-top: 5px'><h3>This code is a part of Qiskit</h3><p>&copy; Copyright IBM 2017, 2022.</p><p>This code is licensed under the Apache License, Version 2.0. You may<br>obtain a copy of this license in the LICENSE.txt file in the root directory<br> of this source tree or at http://www.apache.org/licenses/LICENSE-2.0.<p>Any modifications or derivative works of this code must retain this<br>copyright notice, and modified files need to carry a notice indicating<br>that they have been altered from the originals.</p></div>"
      ],
      "text/plain": [
       "<IPython.core.display.HTML object>"
      ]
     },
     "metadata": {},
     "output_type": "display_data"
    }
   ],
   "source": [
    "import qiskit.tools.jupyter\n",
    "\n",
    "%qiskit_version_table\n",
    "%qiskit_copyright"
   ]
  },
  {
   "cell_type": "code",
   "execution_count": null,
   "metadata": {},
   "outputs": [],
   "source": []
  }
 ],
 "metadata": {
  "language_info": {
   "name": "python"
  }
 },
 "nbformat": 4,
 "nbformat_minor": 4
}
