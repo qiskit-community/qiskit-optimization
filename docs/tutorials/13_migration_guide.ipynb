{
 "cells": [
  {
   "cell_type": "markdown",
   "id": "70591401-6c5f-415f-8101-c35828601f6d",
   "metadata": {},
   "source": [
    "# Migration guide"
   ]
  },
  {
   "cell_type": "code",
   "execution_count": null,
   "id": "999f4ccf-47e7-49d4-aa2c-6e8aa812bd2a",
   "metadata": {},
   "outputs": [],
   "source": []
  }
 ],
 "metadata": {
  "kernelspec": {
   "display_name": "Python 3 (ipykernel)",
   "language": "python",
   "name": "python3"
  },
  "language_info": {
   "codemirror_mode": {
    "name": "ipython",
    "version": 3
   },
   "file_extension": ".py",
   "mimetype": "text/x-python",
   "name": "python",
   "nbconvert_exporter": "python",
   "pygments_lexer": "ipython3",
   "version": "3.9.15"
  }
 },
 "nbformat": 4,
 "nbformat_minor": 5
}
