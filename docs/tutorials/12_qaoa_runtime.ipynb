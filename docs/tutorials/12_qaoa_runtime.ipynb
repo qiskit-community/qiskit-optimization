{
 "cells": [
  {
   "cell_type": "markdown",
   "id": "d9a5a73c",
   "metadata": {},
   "source": [
    "# QAOA Runtime\n",
    "\n",
    "The Qiskit runtime is an execution model that permits us to run an entire program on the backend side. Here, we discuss how to run the QAOA algorithm in the Qiskit runtime. We will discuss several of the features that this first version of the QAOA Runtime makes available.\n",
    "\n"
   ]
  },
  {
   "cell_type": "code",
   "execution_count": 1,
   "id": "72262f32",
   "metadata": {},
   "outputs": [],
   "source": [
    "from qiskit import IBMQ\n",
    "\n",
    "IBMQ.load_account()\n",
    "\n",
    "provider = IBMQ.get_provider(hub=\"ibm-q\", group=\"open\", project=\"main\")"
   ]
  },
  {
   "cell_type": "markdown",
   "id": "19891f2e",
   "metadata": {},
   "source": [
    "## Preliminaries\n",
    "\n",
    "First, we load the program and inspect its arguments to know what inputs it is expecting. We also investigate the return types to understand what will be returned to us. We obtain the QAOA program from the provider as follows."
   ]
  },
  {
   "cell_type": "code",
   "execution_count": 2,
   "id": "68a55051",
   "metadata": {},
   "outputs": [],
   "source": [
    "program_id = \"qaoa\"\n",
    "qaoa_program = provider.runtime.program(program_id)"
   ]
  },
  {
   "cell_type": "markdown",
   "id": "9fe9219a",
   "metadata": {},
   "source": [
    "The arguments to the runtime are obtained as follows."
   ]
  },
  {
   "cell_type": "code",
   "execution_count": 3,
   "id": "c902b04b",
   "metadata": {},
   "outputs": [
    {
     "name": "stdout",
     "output_type": "stream",
     "text": [
      "Program name: qaoa, Program id: qaoa\n",
      "ParameterNamespace (Values):\n",
      "| Name       | Value        | Type         | Required |     Description |\n",
      "-------------------------------------------------------------------------\n",
      "| optimizati | None         | integer     | False    | The optimization level to run if the swap strategies are not used. This value is 1 by default. This is an integer. |\n",
      "| use_initia | None         | boolean     | False    | A boolean flag that, if set to True (the default is False), runs a heuristic algorithm to permute the Paulis in the cost operator to better fit the coupling map and the swap strategy. This is only needed when the optimization problem is sparse and when using swap strategies to transpile. |\n",
      "| use_pulse_ | None         | boolean     | False    | A boolean on whether or not to use a pulse-efficient transpilation. This flag is set to False by default. |\n",
      "| measuremen | None         | boolean     | False    | Whether to apply measurement error mitigation in form of a tensored measurement fitter to the measurements. Defaults to False. |\n",
      "| reps       | None         | integer     | False    | The number of QAOA repetitions, i.e. the QAOA depth typically labeled p. This value defaults to 1. This is an integer. |\n",
      "| alpha      | None         | number      | False    | The fraction of top measurement samples to be used for the expectation value (CVaR expectation). Defaults to 1, i.e. using all samples to construct the expectation value. |\n",
      "| aux_operat | None         | array       | False    | A list of operators to be evaluated at the final, optimized state. This must be a List[PauliSumOp]. |\n",
      "| initial_po | None         | ['array', 's| False    | Initial parameters of the ansatz. Can be an array or the string ``'random'`` to choose random initial parameters. The type must be numpy.ndarray or str. |\n",
      "| shots      | None         | integer     | False    | The integer number of shots used for each circuit evaluation. Defaults to 1024. |\n",
      "| operator   | None         | object      | True     | The cost Hamiltonian, consisting of Pauli I and Z operators, whose smallest eigenvalue we're trying to find. The type must be a PauliSumOp. |\n",
      "| optimizer  | None         | object      | False    | The classical optimizer used to update the parameters in each iteration. Per default, SPSA with automatic calibration of the learning rate is used. The type must be a qiskit.algorithms.optimizers.Optimizer. |\n",
      "| use_swap_s | None         | boolean     | False    | A boolean on whether or not to use swap strategies when transpiling. This flag is set to True by default. If this is False then the standard transpiler with the given optimization level will run. |\n"
     ]
    }
   ],
   "source": [
    "print(f\"Program name: {qaoa_program.name}, Program id: {qaoa_program.program_id}\")\n",
    "print(qaoa_program.parameters())"
   ]
  },
  {
   "cell_type": "markdown",
   "id": "2aba6da8",
   "metadata": {},
   "source": [
    "Here, we see the different input arguments which we now elaborate on.\n",
    "\n",
    "* **operator** is by far the most important argument since it represent the cost operator that we want to minimize. For QAOA this corresponds to a `PauliSumOp`. Each time there is a quadratic term between two decision variables in the problem we wish to minimize there will be a corresponding `ZZ` term in the `PauliSumOp`. For example, the operator `PauliSumOp.from_list([(\"ZIZ\", 1), (\"IZZ\", -1), (\"ZZI\", 1)])` may correspond to a Maxcut problem on a triangle where one edge has a negative weight.\n",
    "* **optimizer** represents the optimizer used in the closed-loop classical optimization. This will default to SPSA to deal with the noise of the hardware.\n",
    "* **reps** this integer is the number of QAOA layers.\n",
    "* **initial_point** is the initial values for $\\gamma$ and $\\beta$. This is a list given in the following order $[\\gamma_1, \\beta_1, \\gamma_2, \\beta_2, ...]$. The length of this list should therefore be twice the QAOA depth (i.e. the `reps` parameter).\n",
    "* **shots** is the number of shots to gather for each circuit.\n",
    "* **alpha** is the $\\alpha$ of the CVaR optimization [1]. If $\\alpha$ is smaller than one then only the best $\\alpha$ fraction of shots will be retained in the optimization, i.e. this corresponds to using `CVaRExpectation(alpha, PauliExpectation())` which can be found in `qiskit.opflow`.\n",
    "* **measurement_error_mitigation** determines or not to use readout error mitigation. If `True`, the algorithm used this will employ the `TensoredMeasFitter`. \n",
    "* If **use_swap_strategies** is `True` the QAOA program will transpile the QAOA circuit with dedicated swap strategies that take into account the commutative nature of the `ZZ` operators in QAOA and the coupling map of the backend on which the program will run. If this option is False then the QAOA program will default to the standard transpiler with optimization level 1. This optimization level can be chosen using the **optimization_level** input option.\n",
    "* If **use_pulse_efficient** is set to `True` then a pulse efficient transpilation will be run at each QAOA iteration [2]. This collects two-qubit blocks and applies Cartan's KAK decomposition to obtain a `RZXGate` representation of the circuit. Scaled cross-resonance pulses are then used. Further details are given in Appendix A below.\n",
    "* If **use_initial_mapping** is `True` then a heuristic algorithm will be run to permute the Pauli operators in the cost operator to better fit the coupling map of the device. This permutation is only applied if the `use_swap_strategies` option is set to `True` and only makes sense for non-fully-connected problems.\n",
    "* **optimization_level** This is the optimization level of the Qiskit transpiler if swap strategies are not used. The default value is 1.\n",
    "\n",
    "### References\n",
    "\n",
    "[1] P. Kl. Barkoutsos, G. Nannicini, A. Robert, I. Tavernelli, and S. Woerner, *Improving Variational Quantum Optimization using CVaR*, Quantum **4**, 256 (2020).\n",
    "\n",
    "[2] N. Earnest, C. Tornow, and D. J. Egger, *Pulse-efficient circuit transpilation for quantum applications on cross-resonance-based hardware*, Phys. Rev. Research **3**, 043088 (2021)."
   ]
  },
  {
   "cell_type": "markdown",
   "id": "f95d38a3",
   "metadata": {},
   "source": [
    "## Running the QAOA runtime program\n",
    "\n",
    "We now show how to use the QAOA runtime program with a five qubit example. \n",
    "\n",
    "Here, we show how to directly call the program on the cloud. However, Qiskit Optimization provides the `QAOAClient` which seamlessly fits in the Qiskit Optimization workflow and can be used as a direct replacement of your local `QAOA` algorithm. This `QAOAClient` is discussed below in this tutorial."
   ]
  },
  {
   "cell_type": "code",
   "execution_count": 4,
   "id": "44cc9583",
   "metadata": {},
   "outputs": [],
   "source": [
    "import numpy as np\n",
    "\n",
    "from qiskit.tools import job_monitor\n",
    "from qiskit.opflow import PauliSumOp, Z, I\n",
    "from qiskit.algorithms.optimizers import SPSA\n",
    "\n",
    "# Define the cost operator to run.\n",
    "op = (\n",
    "    (Z ^ Z ^ I ^ I ^ I)\n",
    "    - (I ^ I ^ Z ^ Z ^ I)\n",
    "    + (I ^ I ^ Z ^ I ^ Z)\n",
    "    - (Z ^ I ^ Z ^ I ^ I)\n",
    "    - (I ^ Z ^ Z ^ I ^ I)\n",
    "    + (I ^ Z ^ I ^ Z ^ I)\n",
    "    + (I ^ I ^ I ^ Z ^ Z)\n",
    ")\n",
    "\n",
    "# SPSA helps deal with noisy environments.\n",
    "optimizer = SPSA(maxiter=100)\n",
    "\n",
    "# We will run a depth two QAOA.\n",
    "reps = 2\n",
    "\n",
    "# The initial point for the optimization, chosen at random.\n",
    "initial_point = np.random.random(2 * reps)\n",
    "\n",
    "# The backend that will run the programm.\n",
    "options = {\"backend_name\": \"ibmq_qasm_simulator\"}\n",
    "\n",
    "# The inputs of the program as described above.\n",
    "runtime_inputs = {\n",
    "    \"operator\": op,\n",
    "    \"reps\": reps,\n",
    "    \"optimizer\": optimizer,\n",
    "    \"initial_point\": initial_point,\n",
    "    \"shots\": 2**13,\n",
    "    # Set to True when running on real backends to reduce circuit\n",
    "    # depth by leveraging swap strategies. If False the\n",
    "    # given optimization_level (default is 1) will be used.\n",
    "    \"use_swap_strategies\": False,\n",
    "    # Set to True when optimizing sparse problems.\n",
    "    \"use_initial_mapping\": False,\n",
    "    # Set to true when using echoed-cross-resonance hardware.\n",
    "    \"use_pulse_efficient\": False,\n",
    "}"
   ]
  },
  {
   "cell_type": "markdown",
   "id": "27707d3e",
   "metadata": {},
   "source": [
    "Now, we run the program using the provider."
   ]
  },
  {
   "cell_type": "code",
   "execution_count": 5,
   "id": "a39cdd36",
   "metadata": {},
   "outputs": [],
   "source": [
    "job = provider.runtime.run(\n",
    "    program_id=program_id,\n",
    "    options=options,\n",
    "    inputs=runtime_inputs,\n",
    ")"
   ]
  },
  {
   "cell_type": "code",
   "execution_count": 6,
   "id": "c1079304-edea-453a-9abd-e5653778aacb",
   "metadata": {},
   "outputs": [
    {
     "name": "stdout",
     "output_type": "stream",
     "text": [
      "Job Status: job has successfully run\n"
     ]
    }
   ],
   "source": [
    "job_monitor(job)"
   ]
  },
  {
   "cell_type": "code",
   "execution_count": 7,
   "id": "2723675e",
   "metadata": {},
   "outputs": [
    {
     "name": "stdout",
     "output_type": "stream",
     "text": [
      "Job id: c9qh9mekcirf2adkkhvg\n",
      "Bob status: JobStatus.DONE\n"
     ]
    }
   ],
   "source": [
    "print(f\"Job id: {job.job_id()}\")\n",
    "print(f\"Job status: {job.status()}\")"
   ]
  },
  {
   "cell_type": "markdown",
   "id": "eb5f92d9",
   "metadata": {},
   "source": [
    "Once the job has successfully executed we can retrieve the result from the job. The result object contains information on the optimization. For self consistency it also contains the inputs to the QAOA program that are accessible through `result[\"inputs\"]`. The value under `\"inputs\"` is a dictionary with the keys described above."
   ]
  },
  {
   "cell_type": "code",
   "execution_count": 8,
   "id": "7a6275c9",
   "metadata": {},
   "outputs": [],
   "source": [
    "result = job.result()"
   ]
  },
  {
   "cell_type": "markdown",
   "id": "cbbae8ab",
   "metadata": {},
   "source": [
    "Of particular interest is the energy that was measured on the hardware at each iteration as well as the returned eigenstate. For this example we assume that the energy of the cost operator that we minimized corresponds to an instance of a MaxCut problem."
   ]
  },
  {
   "cell_type": "code",
   "execution_count": 9,
   "id": "eab45238",
   "metadata": {},
   "outputs": [],
   "source": [
    "from collections import defaultdict\n",
    "\n",
    "\n",
    "def op_adj_mat(op: PauliSumOp) -> np.array:\n",
    "    \"\"\"Extract the adjacency matrix from the op.\"\"\"\n",
    "    adj_mat = np.zeros((op.num_qubits, op.num_qubits))\n",
    "    for pauli, coeff in op.primitive.to_list():\n",
    "        idx = tuple([i for i, c in enumerate(pauli[::-1]) if c == \"Z\"])  # index of Z\n",
    "        adj_mat[idx[0], idx[1]], adj_mat[idx[1], idx[0]] = np.real(coeff), np.real(coeff)\n",
    "\n",
    "    return adj_mat\n",
    "\n",
    "\n",
    "def get_cost(bit_str: str, adj_mat: np.array) -> float:\n",
    "    \"\"\"Return the cut value of the bit string.\"\"\"\n",
    "    n, x = len(bit_str), [int(bit) for bit in bit_str[::-1]]\n",
    "    cost = 0\n",
    "    for i in range(n):\n",
    "        for j in range(n):\n",
    "            cost += adj_mat[i, j] * x[i] * (1 - x[j])\n",
    "\n",
    "    return cost\n",
    "\n",
    "\n",
    "def get_cut_distribution(result) -> dict:\n",
    "    \"\"\"Extract the cut distribution from the result.\n",
    "\n",
    "    Returns:\n",
    "        A dict of cut value: probability.\n",
    "    \"\"\"\n",
    "\n",
    "    adj_mat = op_adj_mat(PauliSumOp.from_list(result[\"inputs\"][\"operator\"]))\n",
    "\n",
    "    state_results = []\n",
    "    for bit_str, amp in result[\"eigenstate\"].items():\n",
    "        state_results.append((bit_str, get_cost(bit_str, adj_mat), amp**2 * 100))\n",
    "\n",
    "    vals = defaultdict(int)\n",
    "\n",
    "    for res in state_results:\n",
    "        vals[res[1]] += res[2]\n",
    "\n",
    "    return dict(vals)"
   ]
  },
  {
   "cell_type": "code",
   "execution_count": 10,
   "id": "73a06065",
   "metadata": {},
   "outputs": [
    {
     "data": {
      "text/plain": [
       "Text(0, 0.5, 'Probability')"
      ]
     },
     "execution_count": 10,
     "metadata": {},
     "output_type": "execute_result"
    },
    {
     "data": {
      "image/png": "[encoded data removed]",
      "text/plain": [
       "<Figure size 1008x360 with 2 Axes>"
      ]
     },
     "metadata": {
      "needs_background": "light"
     },
     "output_type": "display_data"
    }
   ],
   "source": [
    "import matplotlib.pyplot as plt\n",
    "\n",
    "cut_vals = get_cut_distribution(result)\n",
    "\n",
    "fig, axs = plt.subplots(1, 2, figsize=(14, 5))\n",
    "axs[0].plot(result[\"optimizer_history\"][\"energy\"])\n",
    "axs[1].bar(list(cut_vals.keys()), list(cut_vals.values()))\n",
    "axs[0].set_xlabel(\"Energy evaluation number\")\n",
    "axs[0].set_ylabel(\"Energy\")\n",
    "axs[1].set_xlabel(\"Cut value\")\n",
    "axs[1].set_ylabel(\"Probability\")"
   ]
  },
  {
   "cell_type": "markdown",
   "id": "154eadad",
   "metadata": {},
   "source": [
    "## Qiskit optimization\n",
    "\n",
    "The functionality discussed above is implemented in Qiskit-optimization where the QAOA-runtime is accessible through the `runtime` module. We now show how to use this module with the `QAOAClient`."
   ]
  },
  {
   "cell_type": "code",
   "execution_count": 11,
   "id": "1c6c6839",
   "metadata": {},
   "outputs": [],
   "source": [
    "from qiskit_optimization.runtime import QAOAClient\n",
    "from qiskit_optimization.algorithms import MinimumEigenOptimizer\n",
    "from qiskit_optimization import QuadraticProgram"
   ]
  },
  {
   "cell_type": "code",
   "execution_count": 12,
   "id": "f4fb4f77",
   "metadata": {},
   "outputs": [
    {
     "name": "stdout",
     "output_type": "stream",
     "text": [
      "Problem name: \n",
      "\n",
      "Minimize\n",
      "  x*y - x*z + 2*y*z + x - 2*y + 3*z\n",
      "\n",
      "Subject to\n",
      "  No constraints\n",
      "\n",
      "  Binary variables (3)\n",
      "    x y z\n",
      "\n"
     ]
    }
   ],
   "source": [
    "qubo = QuadraticProgram()\n",
    "qubo.binary_var(\"x\")\n",
    "qubo.binary_var(\"y\")\n",
    "qubo.binary_var(\"z\")\n",
    "qubo.minimize(linear=[1, -2, 3], quadratic={(\"x\", \"y\"): 1, (\"x\", \"z\"): -1, (\"y\", \"z\"): 2})\n",
    "print(qubo.prettyprint())"
   ]
  },
  {
   "cell_type": "code",
   "execution_count": 13,
   "id": "05edf564",
   "metadata": {},
   "outputs": [],
   "source": [
    "qaoa_mes = QAOAClient(\n",
    "    provider=provider, backend=provider.get_backend(\"ibmq_qasm_simulator\"), reps=2, alpha=0.75\n",
    ")\n",
    "\n",
    "qaoa = MinimumEigenOptimizer(qaoa_mes)"
   ]
  },
  {
   "cell_type": "code",
   "execution_count": 14,
   "id": "db541f7a",
   "metadata": {},
   "outputs": [
    {
     "name": "stdout",
     "output_type": "stream",
     "text": [
      "objective function value: -2.0\n",
      "variable values: x=0.0, y=1.0, z=0.0\n",
      "status: SUCCESS\n"
     ]
    }
   ],
   "source": [
    "result = qaoa.solve(qubo)\n",
    "print(result.prettyprint())"
   ]
  },
  {
   "cell_type": "markdown",
   "id": "05c17aa7",
   "metadata": {},
   "source": [
    "## Appendix A: Pulse-efficient transpilation\n",
    "\n",
    "The QAOA runtime program can leverage a pulse-efficient transpilation which minimizes the number of single-qubit pulses and makes use of the cross-resonance scaling methodology applicable to the echoed-cross-resonance gates of IBM Quantum Systems. For completeness we here show the pass manager that is implemented."
   ]
  },
  {
   "cell_type": "code",
   "execution_count": 15,
   "id": "62c08488",
   "metadata": {},
   "outputs": [],
   "source": [
    "from qiskit.transpiler import PassManager\n",
    "from qiskit.circuit.library.standard_gates.equivalence_library import (\n",
    "    StandardEquivalenceLibrary as std_eqlib,\n",
    ")\n",
    "from qiskit.transpiler.passes import (\n",
    "    Collect2qBlocks,\n",
    "    ConsolidateBlocks,\n",
    "    UnrollCustomDefinitions,\n",
    "    BasisTranslator,\n",
    "    Optimize1qGatesDecomposition,\n",
    ")\n",
    "from qiskit.transpiler.passes.calibration.builders import RZXCalibrationBuilderNoEcho\n",
    "from qiskit.transpiler.passes.optimization.echo_rzx_weyl_decomposition import (\n",
    "    EchoRZXWeylDecomposition,\n",
    ")\n",
    "\n",
    "from qiskit.test.mock import FakeBelem"
   ]
  },
  {
   "cell_type": "code",
   "execution_count": 16,
   "id": "63a08c53",
   "metadata": {},
   "outputs": [],
   "source": [
    "backend = FakeBelem()"
   ]
  },
  {
   "cell_type": "markdown",
   "id": "c2f34404",
   "metadata": {},
   "source": [
    "The pulse efficient pass is implemented using transpiler passes from qiskit. It requires knowledge of the pulse-enabled backend to attached scaled cross-resonance gates to the `RZXGate`s obtained from the KAK decomposition. These scaled gates are based on the schedules of the calibrated CNOT gates."
   ]
  },
  {
   "cell_type": "code",
   "execution_count": 17,
   "id": "73e09644",
   "metadata": {},
   "outputs": [],
   "source": [
    "inst_map = backend.defaults().instruction_schedule_map\n",
    "channel_map = backend.configuration().qubit_channel_mapping\n",
    "rzx_basis = [\"rzx\", \"rz\", \"x\", \"sx\"]\n",
    "\n",
    "pulse_efficient = PassManager(\n",
    "    [\n",
    "        # Consolidate consecutive two-qubit operations.\n",
    "        Collect2qBlocks(),\n",
    "        ConsolidateBlocks(basis_gates=[\"rz\", \"sx\", \"x\", \"rxx\"]),\n",
    "        # Rewrite circuit in terms of Weyl-decomposed echoed RZX gates.\n",
    "        EchoRZXWeylDecomposition(backend.defaults().instruction_schedule_map),\n",
    "        # Attach scaled CR pulse schedules to the RZX gates.\n",
    "        RZXCalibrationBuilderNoEcho(\n",
    "            instruction_schedule_map=inst_map, qubit_channel_mapping=channel_map\n",
    "        ),\n",
    "        # Simplify single-qubit gates.\n",
    "        UnrollCustomDefinitions(std_eqlib, rzx_basis),\n",
    "        BasisTranslator(std_eqlib, rzx_basis),\n",
    "        Optimize1qGatesDecomposition(rzx_basis),\n",
    "    ]\n",
    ")"
   ]
  },
  {
   "cell_type": "markdown",
   "id": "8f7b5f0a",
   "metadata": {},
   "source": [
    "To demonstrate the pass we construct an arbitrary circuit with blocks of two-qubit gates."
   ]
  },
  {
   "cell_type": "code",
   "execution_count": 18,
   "id": "862ea1b9",
   "metadata": {},
   "outputs": [
    {
     "data": {
      "image/png": "[encoded data removed]",
      "text/plain": [
       "<Figure size 568.197x204.68 with 1 Axes>"
      ]
     },
     "execution_count": 18,
     "metadata": {},
     "output_type": "execute_result"
    }
   ],
   "source": [
    "from qiskit import QuantumCircuit\n",
    "\n",
    "circ = QuantumCircuit(3)\n",
    "circ.h([0, 1, 2])\n",
    "circ.rzx(0.5, 0, 1)\n",
    "circ.swap(0, 1)\n",
    "circ.cx(2, 1)\n",
    "circ.rz(0.4, 1)\n",
    "circ.cx(2, 1)\n",
    "circ.rx(1.23, 2)\n",
    "circ.cx(2, 1)\n",
    "circ.draw(\"mpl\")"
   ]
  },
  {
   "cell_type": "code",
   "execution_count": 19,
   "id": "b925590c",
   "metadata": {},
   "outputs": [
    {
     "data": {
      "image/png": "[encoded data removed]",
      "text/plain": [
       "<Figure size 2675.2x204.68 with 1 Axes>"
      ]
     },
     "execution_count": 19,
     "metadata": {},
     "output_type": "execute_result"
    }
   ],
   "source": [
    "pulse_efficient.run(circ).draw(\"mpl\", fold=False)"
   ]
  },
  {
   "cell_type": "code",
   "execution_count": 20,
   "id": "073cf627",
   "metadata": {},
   "outputs": [
    {
     "data": {
      "text/html": [
       "<h3>Version Information</h3><table><tr><th>Qiskit Software</th><th>Version</th></tr><tr><td><code>qiskit-terra</code></td><td>0.21.0.dev0+cffbb84</td></tr><tr><td><code>qiskit-aer</code></td><td>0.10.4</td></tr><tr><td><code>qiskit-ibmq-provider</code></td><td>0.19.1</td></tr><tr><td><code>qiskit-optimization</code></td><td>0.4.0</td></tr><tr><th>System information</th></tr><tr><td>Python version</td><td>3.10.4</td></tr><tr><td>Python compiler</td><td>GCC 11.2.0</td></tr><tr><td>Python build</td><td>main, Apr  2 2022 09:04:19</td></tr><tr><td>OS</td><td>Linux</td></tr><tr><td>CPUs</td><td>4</td></tr><tr><td>Memory (Gb)</td><td>14.577533721923828</td></tr><tr><td colspan='2'>Fri May 06 21:31:31 2022 JST</td></tr></table>"
      ],
      "text/plain": [
       "<IPython.core.display.HTML object>"
      ]
     },
     "metadata": {},
     "output_type": "display_data"
    },
    {
     "data": {
      "text/html": [
       "<div style='width: 100%; background-color:#d5d9e0;padding-left: 10px; padding-bottom: 10px; padding-right: 10px; padding-top: 5px'><h3>This code is a part of Qiskit</h3><p>&copy; Copyright IBM 2017, 2022.</p><p>This code is licensed under the Apache License, Version 2.0. You may<br>obtain a copy of this license in the LICENSE.txt file in the root directory<br> of this source tree or at http://www.apache.org/licenses/LICENSE-2.0.<p>Any modifications or derivative works of this code must retain this<br>copyright notice, and modified files need to carry a notice indicating<br>that they have been altered from the originals.</p></div>"
      ],
      "text/plain": [
       "<IPython.core.display.HTML object>"
      ]
     },
     "metadata": {},
     "output_type": "display_data"
    }
   ],
   "source": [
    "import qiskit.tools.jupyter\n",
    "\n",
    "%qiskit_version_table\n",
    "%qiskit_copyright"
   ]
  }
 ],
 "metadata": {
  "language_info": {
   "name": "python"
  },
  "nbsphinx": {
   "execute": "never"
  }
 },
 "nbformat": 4,
 "nbformat_minor": 5
}
